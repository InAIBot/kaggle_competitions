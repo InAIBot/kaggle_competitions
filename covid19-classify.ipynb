{
 "cells": [
  {
   "cell_type": "code",
   "execution_count": 1,
   "id": "institutional-balloon",
   "metadata": {
    "execution": {
     "iopub.execute_input": "2021-07-26T13:59:36.696717Z",
     "iopub.status.busy": "2021-07-26T13:59:36.695129Z",
     "iopub.status.idle": "2021-07-26T13:59:36.872171Z",
     "shell.execute_reply": "2021-07-26T13:59:36.871512Z",
     "shell.execute_reply.started": "2021-07-25T00:36:55.915831Z"
    },
    "papermill": {
     "duration": 0.239354,
     "end_time": "2021-07-26T13:59:36.872318",
     "exception": false,
     "start_time": "2021-07-26T13:59:36.632964",
     "status": "completed"
    },
    "tags": []
   },
   "outputs": [],
   "source": [
    "import cv2\n",
    "import matplotlib.pyplot as plt\n",
    "import numpy as np\n",
    "\n",
    "import os\n",
    "import sys\n",
    "\n",
    "import pandas as pd\n",
    "import math\n",
    "import csv\n",
    "\n",
    "from timeit import default_timer as timer\n",
    "\n",
    "from datetime import datetime"
   ]
  },
  {
   "cell_type": "code",
   "execution_count": 2,
   "id": "quiet-contractor",
   "metadata": {
    "execution": {
     "iopub.execute_input": "2021-07-26T13:59:36.938193Z",
     "iopub.status.busy": "2021-07-26T13:59:36.937548Z",
     "iopub.status.idle": "2021-07-26T13:59:45.450478Z",
     "shell.execute_reply": "2021-07-26T13:59:45.449217Z",
     "shell.execute_reply.started": "2021-07-25T00:36:56.056681Z"
    },
    "papermill": {
     "duration": 8.546963,
     "end_time": "2021-07-26T13:59:45.450616",
     "exception": false,
     "start_time": "2021-07-26T13:59:36.903653",
     "status": "completed"
    },
    "tags": []
   },
   "outputs": [
    {
     "name": "stdout",
     "output_type": "stream",
     "text": [
      "Collecting madgrad\r\n",
      "  Downloading madgrad-1.1-py3-none-any.whl (7.4 kB)\r\n",
      "Installing collected packages: madgrad\r\n",
      "Successfully installed madgrad-1.1\r\n"
     ]
    }
   ],
   "source": [
    "# madgrad\n",
    "# https://github.com/facebookresearch/madgrad\n",
    "\n",
    "!pip install madgrad\n",
    "\n",
    "from madgrad import MADGRAD"
   ]
  },
  {
   "cell_type": "code",
   "execution_count": 3,
   "id": "included-quantum",
   "metadata": {
    "execution": {
     "iopub.execute_input": "2021-07-26T13:59:45.522372Z",
     "iopub.status.busy": "2021-07-26T13:59:45.518064Z",
     "iopub.status.idle": "2021-07-26T13:59:55.957095Z",
     "shell.execute_reply": "2021-07-26T13:59:55.956545Z",
     "shell.execute_reply.started": "2021-07-25T00:37:05.54361Z"
    },
    "papermill": {
     "duration": 10.473969,
     "end_time": "2021-07-26T13:59:55.957222",
     "exception": false,
     "start_time": "2021-07-26T13:59:45.483253",
     "status": "completed"
    },
    "tags": []
   },
   "outputs": [
    {
     "name": "stdout",
     "output_type": "stream",
     "text": [
      "Requirement already satisfied: wandb in /opt/conda/lib/python3.7/site-packages (0.10.26)\r\n",
      "Collecting wandb\r\n",
      "  Downloading wandb-0.11.0-py2.py3-none-any.whl (1.8 MB)\r\n",
      "\u001b[K     |████████████████████████████████| 1.8 MB 2.8 MB/s \r\n",
      "\u001b[?25hRequirement already satisfied: docker-pycreds>=0.4.0 in /opt/conda/lib/python3.7/site-packages (from wandb) (0.4.0)\r\n",
      "Requirement already satisfied: configparser>=3.8.1 in /opt/conda/lib/python3.7/site-packages (from wandb) (5.0.2)\r\n",
      "Requirement already satisfied: GitPython>=1.0.0 in /opt/conda/lib/python3.7/site-packages (from wandb) (3.1.14)\r\n",
      "Requirement already satisfied: pathtools in /opt/conda/lib/python3.7/site-packages (from wandb) (0.1.2)\r\n",
      "Requirement already satisfied: shortuuid>=0.5.0 in /opt/conda/lib/python3.7/site-packages (from wandb) (1.0.1)\r\n",
      "Requirement already satisfied: Click!=8.0.0,>=7.0 in /opt/conda/lib/python3.7/site-packages (from wandb) (7.1.2)\r\n",
      "Requirement already satisfied: psutil>=5.0.0 in /opt/conda/lib/python3.7/site-packages (from wandb) (5.8.0)\r\n",
      "Requirement already satisfied: python-dateutil>=2.6.1 in /opt/conda/lib/python3.7/site-packages (from wandb) (2.8.1)\r\n",
      "Requirement already satisfied: six>=1.13.0 in /opt/conda/lib/python3.7/site-packages (from wandb) (1.15.0)\r\n",
      "Requirement already satisfied: promise<3,>=2.0 in /opt/conda/lib/python3.7/site-packages (from wandb) (2.3)\r\n",
      "Requirement already satisfied: protobuf>=3.12.0 in /opt/conda/lib/python3.7/site-packages (from wandb) (3.15.8)\r\n",
      "Requirement already satisfied: PyYAML in /opt/conda/lib/python3.7/site-packages (from wandb) (5.3.1)\r\n",
      "Requirement already satisfied: sentry-sdk>=0.4.0 in /opt/conda/lib/python3.7/site-packages (from wandb) (1.0.0)\r\n",
      "Requirement already satisfied: requests<3,>=2.0.0 in /opt/conda/lib/python3.7/site-packages (from wandb) (2.25.1)\r\n",
      "Requirement already satisfied: subprocess32>=3.5.3 in /opt/conda/lib/python3.7/site-packages (from wandb) (3.5.4)\r\n",
      "Collecting urllib3>=1.26.5\r\n",
      "  Downloading urllib3-1.26.6-py2.py3-none-any.whl (138 kB)\r\n",
      "\u001b[K     |████████████████████████████████| 138 kB 17.6 MB/s \r\n",
      "\u001b[?25hRequirement already satisfied: gitdb<5,>=4.0.1 in /opt/conda/lib/python3.7/site-packages (from GitPython>=1.0.0->wandb) (4.0.7)\r\n",
      "Requirement already satisfied: smmap<5,>=3.0.1 in /opt/conda/lib/python3.7/site-packages (from gitdb<5,>=4.0.1->GitPython>=1.0.0->wandb) (3.0.5)\r\n",
      "Requirement already satisfied: idna<3,>=2.5 in /opt/conda/lib/python3.7/site-packages (from requests<3,>=2.0.0->wandb) (2.10)\r\n",
      "Requirement already satisfied: certifi>=2017.4.17 in /opt/conda/lib/python3.7/site-packages (from requests<3,>=2.0.0->wandb) (2020.12.5)\r\n",
      "Requirement already satisfied: chardet<5,>=3.0.2 in /opt/conda/lib/python3.7/site-packages (from requests<3,>=2.0.0->wandb) (4.0.0)\r\n",
      "Installing collected packages: urllib3, wandb\r\n",
      "  Attempting uninstall: urllib3\r\n",
      "    Found existing installation: urllib3 1.26.4\r\n",
      "    Uninstalling urllib3-1.26.4:\r\n",
      "      Successfully uninstalled urllib3-1.26.4\r\n",
      "  Attempting uninstall: wandb\r\n",
      "    Found existing installation: wandb 0.10.26\r\n",
      "    Uninstalling wandb-0.10.26:\r\n",
      "      Successfully uninstalled wandb-0.10.26\r\n",
      "\u001b[31mERROR: pip's dependency resolver does not currently take into account all the packages that are installed. This behaviour is the source of the following dependency conflicts.\r\n",
      "jupyterlab-git 0.11.0 requires nbdime<2.0.0,>=1.1.0, but you have nbdime 2.1.0 which is incompatible.\r\n",
      "earthengine-api 0.1.261 requires google-api-python-client<2,>=1.12.1, but you have google-api-python-client 1.8.0 which is incompatible.\r\n",
      "allennlp 2.3.0 requires wandb<0.11.0,>=0.10.0, but you have wandb 0.11.0 which is incompatible.\r\n",
      "aiobotocore 1.3.0 requires botocore<1.20.50,>=1.20.49, but you have botocore 1.20.53 which is incompatible.\u001b[0m\r\n",
      "Successfully installed urllib3-1.26.6 wandb-0.11.0\r\n"
     ]
    }
   ],
   "source": [
    "!pip install wandb --upgrade"
   ]
  },
  {
   "cell_type": "code",
   "execution_count": 4,
   "id": "defensive-terminal",
   "metadata": {
    "execution": {
     "iopub.execute_input": "2021-07-26T13:59:56.047095Z",
     "iopub.status.busy": "2021-07-26T13:59:56.040876Z",
     "iopub.status.idle": "2021-07-26T13:59:57.133410Z",
     "shell.execute_reply": "2021-07-26T13:59:57.132971Z",
     "shell.execute_reply.started": "2021-07-25T00:39:04.393002Z"
    },
    "papermill": {
     "duration": 1.13834,
     "end_time": "2021-07-26T13:59:57.133534",
     "exception": false,
     "start_time": "2021-07-26T13:59:55.995194",
     "status": "completed"
    },
    "tags": []
   },
   "outputs": [
    {
     "name": "stderr",
     "output_type": "stream",
     "text": [
      "\u001b[34m\u001b[1mwandb\u001b[0m: W&B API key is configured (use `wandb login --relogin` to force relogin)\n",
      "\u001b[34m\u001b[1mwandb\u001b[0m: \u001b[33mWARNING\u001b[0m If you're specifying your api key in code, ensure this code is not shared publically.\n",
      "\u001b[34m\u001b[1mwandb\u001b[0m: \u001b[33mWARNING\u001b[0m Consider setting the WANDB_API_KEY environment variable, or running `wandb login` from the command line.\n",
      "\u001b[34m\u001b[1mwandb\u001b[0m: Appending key for api.wandb.ai to your netrc file: /root/.netrc\n"
     ]
    },
    {
     "data": {
      "text/plain": [
       "True"
      ]
     },
     "execution_count": 4,
     "metadata": {},
     "output_type": "execute_result"
    }
   ],
   "source": [
    "import wandb\n",
    "api_key = '8562886a9639c1f50c4599b9c0a584bddfd1c02e'\n",
    "wandb.login(key=api_key)"
   ]
  },
  {
   "cell_type": "code",
   "execution_count": 5,
   "id": "stupid-following",
   "metadata": {
    "execution": {
     "iopub.execute_input": "2021-07-26T13:59:57.222532Z",
     "iopub.status.busy": "2021-07-26T13:59:57.221486Z",
     "iopub.status.idle": "2021-07-26T14:00:04.082130Z",
     "shell.execute_reply": "2021-07-26T14:00:04.081506Z",
     "shell.execute_reply.started": "2021-07-25T00:39:08.749135Z"
    },
    "papermill": {
     "duration": 6.910391,
     "end_time": "2021-07-26T14:00:04.082273",
     "exception": false,
     "start_time": "2021-07-26T13:59:57.171882",
     "status": "completed"
    },
    "tags": []
   },
   "outputs": [
    {
     "name": "stdout",
     "output_type": "stream",
     "text": [
      "Collecting timm\r\n",
      "  Downloading timm-0.4.12-py3-none-any.whl (376 kB)\r\n",
      "\u001b[K     |████████████████████████████████| 376 kB 2.8 MB/s \r\n",
      "\u001b[?25hRequirement already satisfied: torch>=1.4 in /opt/conda/lib/python3.7/site-packages (from timm) (1.7.0)\r\n",
      "Requirement already satisfied: torchvision in /opt/conda/lib/python3.7/site-packages (from timm) (0.8.1)\r\n",
      "Requirement already satisfied: future in /opt/conda/lib/python3.7/site-packages (from torch>=1.4->timm) (0.18.2)\r\n",
      "Requirement already satisfied: typing_extensions in /opt/conda/lib/python3.7/site-packages (from torch>=1.4->timm) (3.7.4.3)\r\n",
      "Requirement already satisfied: dataclasses in /opt/conda/lib/python3.7/site-packages (from torch>=1.4->timm) (0.6)\r\n",
      "Requirement already satisfied: numpy in /opt/conda/lib/python3.7/site-packages (from torch>=1.4->timm) (1.19.5)\r\n",
      "Requirement already satisfied: pillow>=4.1.1 in /opt/conda/lib/python3.7/site-packages (from torchvision->timm) (7.2.0)\r\n",
      "Installing collected packages: timm\r\n",
      "Successfully installed timm-0.4.12\r\n"
     ]
    }
   ],
   "source": [
    "!pip install timm"
   ]
  },
  {
   "cell_type": "code",
   "execution_count": 6,
   "id": "happy-investing",
   "metadata": {
    "execution": {
     "iopub.execute_input": "2021-07-26T14:00:04.176064Z",
     "iopub.status.busy": "2021-07-26T14:00:04.171520Z",
     "iopub.status.idle": "2021-07-26T14:00:04.408227Z",
     "shell.execute_reply": "2021-07-26T14:00:04.407496Z",
     "shell.execute_reply.started": "2021-07-25T00:39:16.349306Z"
    },
    "papermill": {
     "duration": 0.281673,
     "end_time": "2021-07-26T14:00:04.408366",
     "exception": false,
     "start_time": "2021-07-26T14:00:04.126693",
     "status": "completed"
    },
    "tags": []
   },
   "outputs": [],
   "source": [
    "import torch\n",
    "import torch.nn as nn\n",
    "import torch.nn.functional as F\n",
    "\n",
    "import torch.optim as optim\n",
    "from torch.optim import Adam\n",
    "\n",
    "from torch.nn.parallel.data_parallel import data_parallel\n",
    "\n",
    "from torch.utils.data.dataset import Dataset\n",
    "from torch.utils.data import DataLoader\n",
    "from torch.utils.data.sampler import *\n",
    "\n",
    "import collections\n",
    "from collections import defaultdict\n",
    "\n",
    "import timm\n",
    "from timm.models.efficientnet import *\n",
    "\n",
    "import torch.cuda.amp as amp"
   ]
  },
  {
   "cell_type": "markdown",
   "id": "assisted-civilization",
   "metadata": {
    "papermill": {
     "duration": 0.040183,
     "end_time": "2021-07-26T14:00:04.491755",
     "exception": false,
     "start_time": "2021-07-26T14:00:04.451572",
     "status": "completed"
    },
    "tags": []
   },
   "source": [
    "# Unpack file"
   ]
  },
  {
   "cell_type": "code",
   "execution_count": 7,
   "id": "neither-determination",
   "metadata": {
    "execution": {
     "iopub.execute_input": "2021-07-26T14:00:04.580200Z",
     "iopub.status.busy": "2021-07-26T14:00:04.579421Z",
     "iopub.status.idle": "2021-07-26T14:00:04.582111Z",
     "shell.execute_reply": "2021-07-26T14:00:04.581701Z",
     "shell.execute_reply.started": "2021-07-25T00:39:16.617485Z"
    },
    "papermill": {
     "duration": 0.04593,
     "end_time": "2021-07-26T14:00:04.582220",
     "exception": false,
     "start_time": "2021-07-26T14:00:04.536290",
     "status": "completed"
    },
    "tags": []
   },
   "outputs": [],
   "source": [
    "_data_dir = \"/kaggle/input/covid19512/\""
   ]
  },
  {
   "cell_type": "code",
   "execution_count": 8,
   "id": "alternative-intro",
   "metadata": {
    "execution": {
     "iopub.execute_input": "2021-07-26T14:00:04.669897Z",
     "iopub.status.busy": "2021-07-26T14:00:04.669215Z",
     "iopub.status.idle": "2021-07-26T14:00:05.341051Z",
     "shell.execute_reply": "2021-07-26T14:00:05.340590Z",
     "shell.execute_reply.started": "2021-07-25T00:39:16.627604Z"
    },
    "papermill": {
     "duration": 0.71793,
     "end_time": "2021-07-26T14:00:05.341179",
     "exception": false,
     "start_time": "2021-07-26T14:00:04.623249",
     "status": "completed"
    },
    "tags": []
   },
   "outputs": [
    {
     "name": "stdout",
     "output_type": "stream",
     "text": [
      "/kaggle/input/covid19512/train/000a312787f2.png\r\n"
     ]
    }
   ],
   "source": [
    "!ls {_data_dir}train/000a312787f2.png"
   ]
  },
  {
   "cell_type": "code",
   "execution_count": 9,
   "id": "looking-colony",
   "metadata": {
    "execution": {
     "iopub.execute_input": "2021-07-26T14:00:05.429258Z",
     "iopub.status.busy": "2021-07-26T14:00:05.428734Z",
     "iopub.status.idle": "2021-07-26T14:00:05.464714Z",
     "shell.execute_reply": "2021-07-26T14:00:05.463612Z",
     "shell.execute_reply.started": "2021-07-25T00:39:17.321359Z"
    },
    "papermill": {
     "duration": 0.081931,
     "end_time": "2021-07-26T14:00:05.464837",
     "exception": false,
     "start_time": "2021-07-26T14:00:05.382906",
     "status": "completed"
    },
    "tags": []
   },
   "outputs": [],
   "source": [
    "mask_example = cv2.imread(_data_dir + \"mask/000a312787f2.png\")"
   ]
  },
  {
   "cell_type": "code",
   "execution_count": 10,
   "id": "irish-designer",
   "metadata": {
    "execution": {
     "iopub.execute_input": "2021-07-26T14:00:05.571390Z",
     "iopub.status.busy": "2021-07-26T14:00:05.570525Z",
     "iopub.status.idle": "2021-07-26T14:00:05.737650Z",
     "shell.execute_reply": "2021-07-26T14:00:05.737231Z",
     "shell.execute_reply.started": "2021-07-25T00:39:17.359948Z"
    },
    "papermill": {
     "duration": 0.227631,
     "end_time": "2021-07-26T14:00:05.737793",
     "exception": false,
     "start_time": "2021-07-26T14:00:05.510162",
     "status": "completed"
    },
    "tags": []
   },
   "outputs": [
    {
     "data": {
      "text/plain": [
       "<matplotlib.image.AxesImage at 0x7f70f171e4d0>"
      ]
     },
     "execution_count": 10,
     "metadata": {},
     "output_type": "execute_result"
    },
    {
     "data": {
      "image/png": "[encoded data removed]",
      "text/plain": [
       "<Figure size 432x288 with 1 Axes>"
      ]
     },
     "metadata": {
      "needs_background": "light"
     },
     "output_type": "display_data"
    }
   ],
   "source": [
    "plt.imshow(mask_example, cmap=\"bone\")"
   ]
  },
  {
   "cell_type": "code",
   "execution_count": 11,
   "id": "short-plaza",
   "metadata": {
    "execution": {
     "iopub.execute_input": "2021-07-26T14:00:05.825362Z",
     "iopub.status.busy": "2021-07-26T14:00:05.824779Z",
     "iopub.status.idle": "2021-07-26T14:00:05.843699Z",
     "shell.execute_reply": "2021-07-26T14:00:05.843266Z",
     "shell.execute_reply.started": "2021-07-25T00:39:17.548011Z"
    },
    "papermill": {
     "duration": 0.065662,
     "end_time": "2021-07-26T14:00:05.843819",
     "exception": false,
     "start_time": "2021-07-26T14:00:05.778157",
     "status": "completed"
    },
    "tags": []
   },
   "outputs": [],
   "source": [
    "train_example = cv2.imread(_data_dir + \"train/000a312787f2.png\")"
   ]
  },
  {
   "cell_type": "code",
   "execution_count": 12,
   "id": "changed-theme",
   "metadata": {
    "execution": {
     "iopub.execute_input": "2021-07-26T14:00:05.954583Z",
     "iopub.status.busy": "2021-07-26T14:00:05.953901Z",
     "iopub.status.idle": "2021-07-26T14:00:06.095391Z",
     "shell.execute_reply": "2021-07-26T14:00:06.095783Z",
     "shell.execute_reply.started": "2021-07-25T00:39:17.566911Z"
    },
    "papermill": {
     "duration": 0.211866,
     "end_time": "2021-07-26T14:00:06.095919",
     "exception": false,
     "start_time": "2021-07-26T14:00:05.884053",
     "status": "completed"
    },
    "tags": []
   },
   "outputs": [
    {
     "data": {
      "text/plain": [
       "<matplotlib.image.AxesImage at 0x7f70f1279950>"
      ]
     },
     "execution_count": 12,
     "metadata": {},
     "output_type": "execute_result"
    },
    {
     "data": {
      "image/png": "[encoded data removed]",
      "text/plain": [
       "<Figure size 432x288 with 1 Axes>"
      ]
     },
     "metadata": {
      "needs_background": "light"
     },
     "output_type": "display_data"
    }
   ],
   "source": [
    "plt.imshow(train_example, cmap=\"bone\")"
   ]
  },
  {
   "cell_type": "markdown",
   "id": "floppy-greensboro",
   "metadata": {
    "papermill": {
     "duration": 0.045355,
     "end_time": "2021-07-26T14:00:06.185126",
     "exception": false,
     "start_time": "2021-07-26T14:00:06.139771",
     "status": "completed"
    },
    "tags": []
   },
   "source": [
    "# Prepare matedata "
   ]
  },
  {
   "cell_type": "code",
   "execution_count": 13,
   "id": "speaking-cowboy",
   "metadata": {
    "execution": {
     "iopub.execute_input": "2021-07-26T14:00:06.285708Z",
     "iopub.status.busy": "2021-07-26T14:00:06.285121Z",
     "iopub.status.idle": "2021-07-26T14:00:06.416307Z",
     "shell.execute_reply": "2021-07-26T14:00:06.415625Z",
     "shell.execute_reply.started": "2021-07-25T00:39:17.739549Z"
    },
    "papermill": {
     "duration": 0.186746,
     "end_time": "2021-07-26T14:00:06.416452",
     "exception": false,
     "start_time": "2021-07-26T14:00:06.229706",
     "status": "completed"
    },
    "tags": []
   },
   "outputs": [],
   "source": [
    "study_df = pd.read_csv(\"/kaggle/input/siim-covid19-detection/train_study_level.csv\")\n",
    "image_df = pd.read_csv(\"/kaggle/input/siim-covid19-detection/train_image_level.csv\")\n",
    "meta_df = pd.read_csv(_data_dir + \"meta.csv\")\n",
    "fold_df = pd.read_csv(_data_dir + \"updated_iamge_level.csv\")"
   ]
  },
  {
   "cell_type": "code",
   "execution_count": 14,
   "id": "academic-russian",
   "metadata": {
    "execution": {
     "iopub.execute_input": "2021-07-26T14:00:06.523074Z",
     "iopub.status.busy": "2021-07-26T14:00:06.522404Z",
     "iopub.status.idle": "2021-07-26T14:00:06.531210Z",
     "shell.execute_reply": "2021-07-26T14:00:06.530784Z",
     "shell.execute_reply.started": "2021-07-25T00:39:17.862622Z"
    },
    "papermill": {
     "duration": 0.068088,
     "end_time": "2021-07-26T14:00:06.531320",
     "exception": false,
     "start_time": "2021-07-26T14:00:06.463232",
     "status": "completed"
    },
    "tags": []
   },
   "outputs": [
    {
     "data": {
      "text/html": [
       "<div>\n",
       "<style scoped>\n",
       "    .dataframe tbody tr th:only-of-type {\n",
       "        vertical-align: middle;\n",
       "    }\n",
       "\n",
       "    .dataframe tbody tr th {\n",
       "        vertical-align: top;\n",
       "    }\n",
       "\n",
       "    .dataframe thead th {\n",
       "        text-align: right;\n",
       "    }\n",
       "</style>\n",
       "<table border=\"1\" class=\"dataframe\">\n",
       "  <thead>\n",
       "    <tr style=\"text-align: right;\">\n",
       "      <th></th>\n",
       "      <th>id</th>\n",
       "      <th>boxes</th>\n",
       "      <th>label</th>\n",
       "      <th>StudyInstanceUID</th>\n",
       "    </tr>\n",
       "  </thead>\n",
       "  <tbody>\n",
       "    <tr>\n",
       "      <th>0</th>\n",
       "      <td>000a312787f2_image</td>\n",
       "      <td>[{'x': 789.28836, 'y': 582.43035, 'width': 102...</td>\n",
       "      <td>opacity 1 789.28836 582.43035 1815.94498 2499....</td>\n",
       "      <td>5776db0cec75</td>\n",
       "    </tr>\n",
       "    <tr>\n",
       "      <th>1</th>\n",
       "      <td>000c3a3f293f_image</td>\n",
       "      <td>NaN</td>\n",
       "      <td>none 1 0 0 1 1</td>\n",
       "      <td>ff0879eb20ed</td>\n",
       "    </tr>\n",
       "    <tr>\n",
       "      <th>2</th>\n",
       "      <td>0012ff7358bc_image</td>\n",
       "      <td>[{'x': 677.42216, 'y': 197.97662, 'width': 867...</td>\n",
       "      <td>opacity 1 677.42216 197.97662 1545.21983 1197....</td>\n",
       "      <td>9d514ce429a7</td>\n",
       "    </tr>\n",
       "    <tr>\n",
       "      <th>3</th>\n",
       "      <td>001398f4ff4f_image</td>\n",
       "      <td>[{'x': 2729, 'y': 2181.33331, 'width': 948.000...</td>\n",
       "      <td>opacity 1 2729 2181.33331 3677.00012 2785.33331</td>\n",
       "      <td>28dddc8559b2</td>\n",
       "    </tr>\n",
       "    <tr>\n",
       "      <th>4</th>\n",
       "      <td>001bd15d1891_image</td>\n",
       "      <td>[{'x': 623.23328, 'y': 1050, 'width': 714, 'he...</td>\n",
       "      <td>opacity 1 623.23328 1050 1337.23328 2156 opaci...</td>\n",
       "      <td>dfd9fdd85a3e</td>\n",
       "    </tr>\n",
       "  </tbody>\n",
       "</table>\n",
       "</div>"
      ],
      "text/plain": [
       "                   id                                              boxes  \\\n",
       "0  000a312787f2_image  [{'x': 789.28836, 'y': 582.43035, 'width': 102...   \n",
       "1  000c3a3f293f_image                                                NaN   \n",
       "2  0012ff7358bc_image  [{'x': 677.42216, 'y': 197.97662, 'width': 867...   \n",
       "3  001398f4ff4f_image  [{'x': 2729, 'y': 2181.33331, 'width': 948.000...   \n",
       "4  001bd15d1891_image  [{'x': 623.23328, 'y': 1050, 'width': 714, 'he...   \n",
       "\n",
       "                                               label StudyInstanceUID  \n",
       "0  opacity 1 789.28836 582.43035 1815.94498 2499....     5776db0cec75  \n",
       "1                                     none 1 0 0 1 1     ff0879eb20ed  \n",
       "2  opacity 1 677.42216 197.97662 1545.21983 1197....     9d514ce429a7  \n",
       "3    opacity 1 2729 2181.33331 3677.00012 2785.33331     28dddc8559b2  \n",
       "4  opacity 1 623.23328 1050 1337.23328 2156 opaci...     dfd9fdd85a3e  "
      ]
     },
     "execution_count": 14,
     "metadata": {},
     "output_type": "execute_result"
    }
   ],
   "source": [
    "image_df.head()"
   ]
  },
  {
   "cell_type": "code",
   "execution_count": 15,
   "id": "illegal-voluntary",
   "metadata": {
    "execution": {
     "iopub.execute_input": "2021-07-26T14:00:06.625881Z",
     "iopub.status.busy": "2021-07-26T14:00:06.625235Z",
     "iopub.status.idle": "2021-07-26T14:00:06.628067Z",
     "shell.execute_reply": "2021-07-26T14:00:06.627587Z",
     "shell.execute_reply.started": "2021-07-25T00:39:17.883636Z"
    },
    "papermill": {
     "duration": 0.049353,
     "end_time": "2021-07-26T14:00:06.628174",
     "exception": false,
     "start_time": "2021-07-26T14:00:06.578821",
     "status": "completed"
    },
    "tags": []
   },
   "outputs": [],
   "source": [
    "_duplicateList_path = _data_dir + 'dublicate.txt'"
   ]
  },
  {
   "cell_type": "code",
   "execution_count": 16,
   "id": "corresponding-appendix",
   "metadata": {
    "execution": {
     "iopub.execute_input": "2021-07-26T14:00:06.723772Z",
     "iopub.status.busy": "2021-07-26T14:00:06.723235Z",
     "iopub.status.idle": "2021-07-26T14:00:06.738389Z",
     "shell.execute_reply": "2021-07-26T14:00:06.738847Z",
     "shell.execute_reply.started": "2021-07-25T00:39:17.890278Z"
    },
    "papermill": {
     "duration": 0.065655,
     "end_time": "2021-07-26T14:00:06.738971",
     "exception": false,
     "start_time": "2021-07-26T14:00:06.673316",
     "status": "completed"
    },
    "tags": []
   },
   "outputs": [
    {
     "data": {
      "text/plain": [
       "['6534a837497d',\n",
       " 'ea2117b53323',\n",
       " 'eea3a910fa9e',\n",
       " '1ea01196514a',\n",
       " '9b1de1c45491']"
      ]
     },
     "execution_count": 16,
     "metadata": {},
     "output_type": "execute_result"
    }
   ],
   "source": [
    "_duplicateList = []\n",
    "with open(_duplicateList_path, newline='') as csvfile:\n",
    "    spamreader = csv.reader(csvfile, delimiter=' ', quotechar='|')\n",
    "    for row in spamreader:\n",
    "        _duplicateList += row\n",
    "\n",
    "_duplicateList[:5]"
   ]
  },
  {
   "cell_type": "markdown",
   "id": "weekly-investment",
   "metadata": {
    "papermill": {
     "duration": 0.044827,
     "end_time": "2021-07-26T14:00:06.830329",
     "exception": false,
     "start_time": "2021-07-26T14:00:06.785502",
     "status": "completed"
    },
    "tags": []
   },
   "source": [
    "# Configuration"
   ]
  },
  {
   "cell_type": "code",
   "execution_count": 17,
   "id": "boolean-saskatchewan",
   "metadata": {
    "execution": {
     "iopub.execute_input": "2021-07-26T14:00:06.926773Z",
     "iopub.status.busy": "2021-07-26T14:00:06.925996Z",
     "iopub.status.idle": "2021-07-26T14:00:06.928602Z",
     "shell.execute_reply": "2021-07-26T14:00:06.928200Z",
     "shell.execute_reply.started": "2021-07-25T00:39:17.911276Z"
    },
    "papermill": {
     "duration": 0.054574,
     "end_time": "2021-07-26T14:00:06.928721",
     "exception": false,
     "start_time": "2021-07-26T14:00:06.874147",
     "status": "completed"
    },
    "tags": []
   },
   "outputs": [],
   "source": [
    "image_size = 512\n",
    "data_dir = _data_dir\n",
    "study_name_to_label = {\n",
    "    'Negative for Pneumonia'  :0,\n",
    "    'Typical Appearance'      :1,\n",
    "    'Indeterminate Appearance':2,\n",
    "    'Atypical Appearance'     :3,\n",
    "}\n",
    "study_label_to_name = { v:k for k,v in study_name_to_label.items()}\n",
    "num_study_label = len(study_name_to_label)"
   ]
  },
  {
   "cell_type": "code",
   "execution_count": 18,
   "id": "committed-photography",
   "metadata": {
    "execution": {
     "iopub.execute_input": "2021-07-26T14:00:07.027963Z",
     "iopub.status.busy": "2021-07-26T14:00:07.027217Z",
     "iopub.status.idle": "2021-07-26T14:00:07.029593Z",
     "shell.execute_reply": "2021-07-26T14:00:07.029982Z",
     "shell.execute_reply.started": "2021-07-25T00:39:17.919074Z"
    },
    "papermill": {
     "duration": 0.058271,
     "end_time": "2021-07-26T14:00:07.030112",
     "exception": false,
     "start_time": "2021-07-26T14:00:06.971841",
     "status": "completed"
    },
    "tags": []
   },
   "outputs": [],
   "source": [
    "def make_fold(mode='train-0'):\n",
    "    if 'train' in mode:\n",
    "        df = study_df.copy()\n",
    "        df.loc[:, 'id'] = df.id.str.replace('_study', '')\n",
    "        df = df.rename(columns={'id': 'study_id'})\n",
    "        \n",
    "        fold = fold_df.copy()\n",
    "        fold.loc[:, 'id'] = fold.id.str.replace('_image', '')\n",
    "        fold = fold.rename(columns={'id': 'image'})\n",
    "\n",
    "        #---\n",
    "        df = df.merge(fold, left_on='study_id', right_on='StudyInstanceUID')\n",
    "        \n",
    "        df = df[~df['image'].isin(_duplicateList)]\n",
    "\n",
    "        #---\n",
    "        fold = int(mode[-1])\n",
    "        df_train = df[df.fold != fold].reset_index(drop=True)\n",
    "        df_valid = df[df.fold == fold].reset_index(drop=True)\n",
    "        return df_train, df_valid"
   ]
  },
  {
   "cell_type": "markdown",
   "id": "single-quality",
   "metadata": {
    "papermill": {
     "duration": 0.047957,
     "end_time": "2021-07-26T14:00:07.120763",
     "exception": false,
     "start_time": "2021-07-26T14:00:07.072806",
     "status": "completed"
    },
    "tags": []
   },
   "source": [
    "# Dataset "
   ]
  },
  {
   "cell_type": "code",
   "execution_count": 19,
   "id": "certified-occasions",
   "metadata": {
    "execution": {
     "iopub.execute_input": "2021-07-26T14:00:07.223137Z",
     "iopub.status.busy": "2021-07-26T14:00:07.222131Z",
     "iopub.status.idle": "2021-07-26T14:00:07.227854Z",
     "shell.execute_reply": "2021-07-26T14:00:07.227365Z",
     "shell.execute_reply.started": "2021-07-25T00:39:17.933389Z"
    },
    "papermill": {
     "duration": 0.063844,
     "end_time": "2021-07-26T14:00:07.227983",
     "exception": false,
     "start_time": "2021-07-26T14:00:07.164139",
     "status": "completed"
    },
    "tags": []
   },
   "outputs": [],
   "source": [
    "class SiimDataset(Dataset):\n",
    "    def __init__(self, df, augment=None):\n",
    "        super().__init__()\n",
    "        self.df = df\n",
    "        self.augment = augment\n",
    "        self.length = len(df)\n",
    "\n",
    "    def __str__(self):\n",
    "        string  = ''\n",
    "        string += '\\tlen = %d\\n'%len(self)\n",
    "        string += '\\tdf  = %s\\n'%str(self.df.shape)\n",
    "\n",
    "        string += '\\tlabel distribution\\n'\n",
    "        for i in range(num_study_label):\n",
    "            n = self.df[study_label_to_name[i]].sum()\n",
    "            string += '\\t\\t %d %26s: %5d (%0.4f)\\n'%(i, study_label_to_name[i], n, n/len(self.df) )\n",
    "        return string\n",
    "\n",
    "\n",
    "    def __len__(self):\n",
    "        return self.length\n",
    "\n",
    "    def __getitem__(self, index):\n",
    "        d = self.df.iloc[index]\n",
    "\n",
    "        #image_file = data_dir + '/%s_640/%s/%s/%s.png' % (d.set, d.study, d.series, d.image)\n",
    "        image_file = data_dir + '/train/%s.png' % (d.image)\n",
    "        image = cv2.imread(image_file,cv2.IMREAD_GRAYSCALE)\n",
    "        onehot = d[study_name_to_label.keys()].values\n",
    "\n",
    "        mask_file = data_dir + '/mask/%s.png' % (d.image)\n",
    "        mask = cv2.imread(mask_file,cv2.IMREAD_GRAYSCALE)\n",
    "        \n",
    "        if str(mask) == \"None\":\n",
    "            mask = np.zeros((image_size, image_size))\n",
    "\n",
    "        r = {\n",
    "            'index' : index,\n",
    "            'd' : d,\n",
    "            'image' : image,\n",
    "            'mask' : mask,\n",
    "            'onehot' : onehot,\n",
    "        }\n",
    "        if self.augment is not None: r = self.augment(r)\n",
    "        return r\n",
    "\n",
    "\n",
    "def null_collate(batch):\n",
    "    collate = defaultdict(list)\n",
    "\n",
    "    for r in batch:\n",
    "        for k, v in r.items():\n",
    "            collate[k].append(v)\n",
    "\n",
    "    # ---\n",
    "    batch_size = len(batch)\n",
    "    onehot = np.ascontiguousarray(np.stack(collate['onehot'])).astype(np.float32)\n",
    "    collate['onehot'] = torch.from_numpy(onehot)\n",
    "\n",
    "    image = np.stack(collate['image'])\n",
    "    image = image.reshape(batch_size, 1, image_size,image_size).repeat(3,1)\n",
    "    image = np.ascontiguousarray(image)\n",
    "    image = image.astype(np.float32) / 255\n",
    "    collate['image'] = torch.from_numpy(image)\n",
    "\n",
    "    mask = np.stack(collate['mask'])\n",
    "    mask = mask.reshape(batch_size, 1, image_size,image_size)\n",
    "    mask = np.ascontiguousarray(mask)\n",
    "    mask = mask.astype(np.float32) / 255\n",
    "    collate['mask'] = torch.from_numpy(mask)\n",
    "\n",
    "    return collate"
   ]
  },
  {
   "cell_type": "code",
   "execution_count": 20,
   "id": "enabling-jewelry",
   "metadata": {
    "execution": {
     "iopub.execute_input": "2021-07-26T14:00:07.320964Z",
     "iopub.status.busy": "2021-07-26T14:00:07.320142Z",
     "iopub.status.idle": "2021-07-26T14:00:07.324053Z",
     "shell.execute_reply": "2021-07-26T14:00:07.323535Z",
     "shell.execute_reply.started": "2021-07-25T00:39:17.952176Z"
    },
    "papermill": {
     "duration": 0.052636,
     "end_time": "2021-07-26T14:00:07.324170",
     "exception": false,
     "start_time": "2021-07-26T14:00:07.271534",
     "status": "completed"
    },
    "tags": []
   },
   "outputs": [
    {
     "data": {
      "text/plain": [
       "\"\\nx = np.array([[1,1,0],[2,0,1], [1,2,3,]])\\ny = np.ascontiguousarray(x, dtype=np.float32)\\nprint(x.flags['C_CONTIGUOUS'])\\nprint(x)\\nprint(y)\\n\""
      ]
     },
     "execution_count": 20,
     "metadata": {},
     "output_type": "execute_result"
    }
   ],
   "source": [
    "# what is ascontiguousarray\n",
    "#x = np.arange(6).reshape(2,3)\n",
    "\"\"\"\n",
    "x = np.array([[1,1,0],[2,0,1], [1,2,3,]])\n",
    "y = np.ascontiguousarray(x, dtype=np.float32)\n",
    "print(x.flags['C_CONTIGUOUS'])\n",
    "print(x)\n",
    "print(y)\n",
    "\"\"\""
   ]
  },
  {
   "cell_type": "code",
   "execution_count": 21,
   "id": "fleet-inspector",
   "metadata": {
    "execution": {
     "iopub.execute_input": "2021-07-26T14:00:07.417747Z",
     "iopub.status.busy": "2021-07-26T14:00:07.416848Z",
     "iopub.status.idle": "2021-07-26T14:00:07.420397Z",
     "shell.execute_reply": "2021-07-26T14:00:07.420922Z",
     "shell.execute_reply.started": "2021-07-25T00:39:17.964988Z"
    },
    "papermill": {
     "duration": 0.05134,
     "end_time": "2021-07-26T14:00:07.421059",
     "exception": false,
     "start_time": "2021-07-26T14:00:07.369719",
     "status": "completed"
    },
    "tags": []
   },
   "outputs": [
    {
     "data": {
      "text/plain": [
       "'\\ndf_train, df_valid = make_fold(mode=\\'train-1\\')\\n\\ndataset = SiimDataset(df_valid) #null_augment\\nprint(dataset)\\n\\n\\nfor i in range(10):\\n    i = np.random.choice(len(dataset))\\n    r = dataset[i]\\n\\n    print(\\'index \\' , i)\\n    print(r[\\'d\\'])\\n    print(r[\\'onehot\\'])\\n    print(\\'\\')\\n    plt.figure()\\n    plt.imshow(r[\\'image\\'])\\n    plt.figure()\\n    plt.imshow(r[\\'mask\\'], cmap=\"bone\")\\n'"
      ]
     },
     "execution_count": 21,
     "metadata": {},
     "output_type": "execute_result"
    }
   ],
   "source": [
    "\"\"\"\n",
    "df_train, df_valid = make_fold(mode='train-1')\n",
    "\n",
    "dataset = SiimDataset(df_valid) #null_augment\n",
    "print(dataset)\n",
    "\n",
    "\n",
    "for i in range(10):\n",
    "    i = np.random.choice(len(dataset))\n",
    "    r = dataset[i]\n",
    "\n",
    "    print('index ' , i)\n",
    "    print(r['d'])\n",
    "    print(r['onehot'])\n",
    "    print('')\n",
    "    plt.figure()\n",
    "    plt.imshow(r['image'])\n",
    "    plt.figure()\n",
    "    plt.imshow(r['mask'], cmap=\"bone\")\n",
    "\"\"\""
   ]
  },
  {
   "cell_type": "code",
   "execution_count": 22,
   "id": "vital-aberdeen",
   "metadata": {
    "execution": {
     "iopub.execute_input": "2021-07-26T14:00:07.518711Z",
     "iopub.status.busy": "2021-07-26T14:00:07.517899Z",
     "iopub.status.idle": "2021-07-26T14:00:07.521776Z",
     "shell.execute_reply": "2021-07-26T14:00:07.521262Z",
     "shell.execute_reply.started": "2021-07-25T00:39:17.975895Z"
    },
    "papermill": {
     "duration": 0.053717,
     "end_time": "2021-07-26T14:00:07.521896",
     "exception": false,
     "start_time": "2021-07-26T14:00:07.468179",
     "status": "completed"
    },
    "tags": []
   },
   "outputs": [
    {
     "data": {
      "text/plain": [
       "\"\\nloader = DataLoader(\\n    dataset,\\n    sampler = RandomSampler(dataset),\\n    batch_size  = 8,\\n    drop_last   = True,\\n    num_workers = 0,\\n    pin_memory  = True,\\n    collate_fn  = null_collate,\\n)\\nfor t,batch in enumerate(loader):\\n    if t>5: break\\n\\n    print(t, '-----------')\\n    print('index : ', batch['index'])\\n    print('image : ')\\n    print('\\t', batch['image'].shape, batch['image'].is_contiguous())\\n    print('mask : ')\\n    print('\\t', batch['mask'].shape, batch['mask'].is_contiguous())\\n    print('onehot : ')\\n    print('\\t', batch['onehot'])\\n    print('\\t', batch['onehot'].shape, batch['onehot'].is_contiguous())\\n    print('')\\n\""
      ]
     },
     "execution_count": 22,
     "metadata": {},
     "output_type": "execute_result"
    }
   ],
   "source": [
    "\"\"\"\n",
    "loader = DataLoader(\n",
    "    dataset,\n",
    "    sampler = RandomSampler(dataset),\n",
    "    batch_size  = 8,\n",
    "    drop_last   = True,\n",
    "    num_workers = 0,\n",
    "    pin_memory  = True,\n",
    "    collate_fn  = null_collate,\n",
    ")\n",
    "for t,batch in enumerate(loader):\n",
    "    if t>5: break\n",
    "\n",
    "    print(t, '-----------')\n",
    "    print('index : ', batch['index'])\n",
    "    print('image : ')\n",
    "    print('\\t', batch['image'].shape, batch['image'].is_contiguous())\n",
    "    print('mask : ')\n",
    "    print('\\t', batch['mask'].shape, batch['mask'].is_contiguous())\n",
    "    print('onehot : ')\n",
    "    print('\\t', batch['onehot'])\n",
    "    print('\\t', batch['onehot'].shape, batch['onehot'].is_contiguous())\n",
    "    print('')\n",
    "\"\"\""
   ]
  },
  {
   "cell_type": "markdown",
   "id": "adapted-extent",
   "metadata": {
    "papermill": {
     "duration": 0.04293,
     "end_time": "2021-07-26T14:00:07.613167",
     "exception": false,
     "start_time": "2021-07-26T14:00:07.570237",
     "status": "completed"
    },
    "tags": []
   },
   "source": [
    "# Model "
   ]
  },
  {
   "cell_type": "code",
   "execution_count": 23,
   "id": "packed-pickup",
   "metadata": {
    "execution": {
     "iopub.execute_input": "2021-07-26T14:00:07.717561Z",
     "iopub.status.busy": "2021-07-26T14:00:07.716878Z",
     "iopub.status.idle": "2021-07-26T14:00:07.719630Z",
     "shell.execute_reply": "2021-07-26T14:00:07.719221Z",
     "shell.execute_reply.started": "2021-07-25T00:39:17.985457Z"
    },
    "papermill": {
     "duration": 0.057685,
     "end_time": "2021-07-26T14:00:07.719742",
     "exception": false,
     "start_time": "2021-07-26T14:00:07.662057",
     "status": "completed"
    },
    "tags": []
   },
   "outputs": [],
   "source": [
    "class Net(nn.Module):\n",
    "    def __init__(self):\n",
    "        super(Net, self).__init__()\n",
    "\n",
    "        e = efficientnet_b3a(pretrained=True, drop_rate=0.3, drop_path_rate=0.2)\n",
    "        self.b0 = nn.Sequential(\n",
    "            e.conv_stem,\n",
    "            e.bn1,\n",
    "            e.act1,\n",
    "        )\n",
    "        self.b1 = e.blocks[0]\n",
    "        self.b2 = e.blocks[1]\n",
    "        self.b3 = e.blocks[2]\n",
    "        self.b4 = e.blocks[3]\n",
    "        self.b5 = e.blocks[4]\n",
    "        self.b6 = e.blocks[5]\n",
    "        self.b7 = e.blocks[6]\n",
    "        self.b8 = nn.Sequential(\n",
    "            e.conv_head, #384, 1536\n",
    "            e.bn2,\n",
    "            e.act2,\n",
    "        )\n",
    "\n",
    "        self.logit = nn.Linear(1536,num_study_label)\n",
    "        self.mask = nn.Sequential(\n",
    "            nn.Conv2d(136, 128, kernel_size=3, padding=1),\n",
    "            nn.BatchNorm2d(128),\n",
    "            nn.ReLU(inplace=True),\n",
    "            nn.Conv2d(128, 128, kernel_size=3, padding=1),\n",
    "            nn.BatchNorm2d(128),\n",
    "            nn.ReLU(inplace=True),\n",
    "            nn.Conv2d(128, 1, kernel_size=1, padding=0),\n",
    "        )\n",
    "\n",
    "\n",
    "    # @torch.cuda.amp.autocast()\n",
    "    def forward(self, image):\n",
    "        batch_size = len(image)\n",
    "        x = 2*image-1     # ; print('input ',   x.shape)\n",
    "\n",
    "        x = self.b0(x) #; print (x.shape)  # torch.Size([2, 40, 256, 256])\n",
    "        x = self.b1(x) #; print (x.shape)  # torch.Size([2, 24, 256, 256])\n",
    "        x = self.b2(x) #; print (x.shape)  # torch.Size([2, 32, 128, 128])\n",
    "        x = self.b3(x) #; print (x.shape)  # torch.Size([2, 48, 64, 64])\n",
    "        x = self.b4(x) #; print (x.shape)  # torch.Size([2, 96, 32, 32])\n",
    "        x = self.b5(x) #; print (x.shape)  # torch.Size([2, 136, 32, 32])\n",
    "        #------------\n",
    "        mask = self.mask(x)\n",
    "        #-------------\n",
    "        x = self.b6(x) #; print (x.shape)  # torch.Size([2, 232, 16, 16])\n",
    "        x = self.b7(x) #; print (x.shape)  # torch.Size([2, 384, 16, 16])\n",
    "        x = self.b8(x) #; print (x.shape)  # torch.Size([2, 1536, 16, 16])\n",
    "        x = F.adaptive_avg_pool2d(x,1).reshape(batch_size,-1)\n",
    "        #x = F.dropout(x, 0.5, training=self.training)\n",
    "        logit = self.logit(x)\n",
    "        return logit, mask"
   ]
  },
  {
   "cell_type": "code",
   "execution_count": 24,
   "id": "downtown-australian",
   "metadata": {
    "execution": {
     "iopub.execute_input": "2021-07-26T14:00:07.816099Z",
     "iopub.status.busy": "2021-07-26T14:00:07.815366Z",
     "iopub.status.idle": "2021-07-26T14:00:07.818759Z",
     "shell.execute_reply": "2021-07-26T14:00:07.818328Z",
     "shell.execute_reply.started": "2021-07-25T00:39:18.001223Z"
    },
    "papermill": {
     "duration": 0.050648,
     "end_time": "2021-07-26T14:00:07.818858",
     "exception": false,
     "start_time": "2021-07-26T14:00:07.768210",
     "status": "completed"
    },
    "tags": []
   },
   "outputs": [
    {
     "data": {
      "text/plain": [
       "'\\nbatch_size = 2\\nC, H, W = 3, 512, 512\\n#C, H, W = 3, 640, 640\\nimage = torch.randn(batch_size, C, H, W).cuda()\\nmask  = torch.randn(batch_size, num_study_label, H, W).cuda()\\n\\nnet = Net().cuda()\\nlogit, mask = net(image)\\n\\nprint(image.shape)\\nprint(logit.shape)\\nprint(mask.shape)\\n'"
      ]
     },
     "execution_count": 24,
     "metadata": {},
     "output_type": "execute_result"
    }
   ],
   "source": [
    "\"\"\"\n",
    "batch_size = 2\n",
    "C, H, W = 3, 512, 512\n",
    "#C, H, W = 3, 640, 640\n",
    "image = torch.randn(batch_size, C, H, W).cuda()\n",
    "mask  = torch.randn(batch_size, num_study_label, H, W).cuda()\n",
    "\n",
    "net = Net().cuda()\n",
    "logit, mask = net(image)\n",
    "\n",
    "print(image.shape)\n",
    "print(logit.shape)\n",
    "print(mask.shape)\n",
    "\"\"\""
   ]
  },
  {
   "cell_type": "markdown",
   "id": "interim-metabolism",
   "metadata": {
    "papermill": {
     "duration": 0.045671,
     "end_time": "2021-07-26T14:00:07.912172",
     "exception": false,
     "start_time": "2021-07-26T14:00:07.866501",
     "status": "completed"
    },
    "tags": []
   },
   "source": [
    "# Utils"
   ]
  },
  {
   "cell_type": "code",
   "execution_count": 25,
   "id": "disturbed-clothing",
   "metadata": {
    "execution": {
     "iopub.execute_input": "2021-07-26T14:00:08.013340Z",
     "iopub.status.busy": "2021-07-26T14:00:08.012522Z",
     "iopub.status.idle": "2021-07-26T14:00:08.015143Z",
     "shell.execute_reply": "2021-07-26T14:00:08.014721Z",
     "shell.execute_reply.started": "2021-07-25T00:39:18.016169Z"
    },
    "papermill": {
     "duration": 0.057797,
     "end_time": "2021-07-26T14:00:08.015246",
     "exception": false,
     "start_time": "2021-07-26T14:00:07.957449",
     "status": "completed"
    },
    "tags": []
   },
   "outputs": [],
   "source": [
    "class Logger(object):\n",
    "    def __init__(self):\n",
    "        self.terminal = sys.stdout  #stdout\n",
    "        self.file = None\n",
    "\n",
    "    def open(self, file, mode=None):\n",
    "        if mode is None: mode ='w'\n",
    "        self.file = open(file, mode)\n",
    "\n",
    "    def write(self, message, is_terminal=1, is_file=1 ):\n",
    "        if '\\r' in message: is_file=0\n",
    "\n",
    "        if is_terminal == 1:\n",
    "            self.terminal.write(message)\n",
    "            self.terminal.flush()\n",
    "            #time.sleep(1)\n",
    "\n",
    "        if is_file == 1:\n",
    "            self.file.write(message)\n",
    "            self.file.flush()\n",
    "\n",
    "    def flush(self):\n",
    "        # this flush method is needed for python 3 compatibility.\n",
    "        # this handles the flush command by doing nothing.\n",
    "        # you might want to specify some extra behavior here.\n",
    "        pass"
   ]
  },
  {
   "cell_type": "code",
   "execution_count": 26,
   "id": "higher-match",
   "metadata": {
    "execution": {
     "iopub.execute_input": "2021-07-26T14:00:08.114915Z",
     "iopub.status.busy": "2021-07-26T14:00:08.114156Z",
     "iopub.status.idle": "2021-07-26T14:00:08.116871Z",
     "shell.execute_reply": "2021-07-26T14:00:08.116372Z",
     "shell.execute_reply.started": "2021-07-25T00:39:18.027251Z"
    },
    "papermill": {
     "duration": 0.056894,
     "end_time": "2021-07-26T14:00:08.116988",
     "exception": false,
     "start_time": "2021-07-26T14:00:08.060094",
     "status": "completed"
    },
    "tags": []
   },
   "outputs": [],
   "source": [
    "def time_to_str(t, mode='min'):\n",
    "    if mode=='min':\n",
    "        t  = int(t)/60\n",
    "        hr = t//60\n",
    "        min = t%60\n",
    "        return '%2d hr %02d min'%(hr,min)\n",
    "\n",
    "    elif mode=='sec':\n",
    "        t   = int(t)\n",
    "        min = t//60\n",
    "        sec = t%60\n",
    "        return '%2d min %02d sec'%(min,sec)\n",
    "\n",
    "    else:\n",
    "        raise NotImplementedError"
   ]
  },
  {
   "cell_type": "code",
   "execution_count": 27,
   "id": "spread-windsor",
   "metadata": {
    "execution": {
     "iopub.execute_input": "2021-07-26T14:00:08.215054Z",
     "iopub.status.busy": "2021-07-26T14:00:08.214380Z",
     "iopub.status.idle": "2021-07-26T14:00:08.217083Z",
     "shell.execute_reply": "2021-07-26T14:00:08.216683Z",
     "shell.execute_reply.started": "2021-07-25T00:39:18.039372Z"
    },
    "papermill": {
     "duration": 0.055283,
     "end_time": "2021-07-26T14:00:08.217186",
     "exception": false,
     "start_time": "2021-07-26T14:00:08.161903",
     "status": "completed"
    },
    "tags": []
   },
   "outputs": [],
   "source": [
    "def get_learning_rate(optimizer):\n",
    "    lr=[]\n",
    "    for param_group in optimizer.param_groups:\n",
    "        lr +=[ param_group['lr'] ]\n",
    "\n",
    "    assert(len(lr)==1) #we support only one param_group\n",
    "    lr = lr[0]\n",
    "\n",
    "    return lr"
   ]
  },
  {
   "cell_type": "markdown",
   "id": "potential-syndicate",
   "metadata": {
    "papermill": {
     "duration": 0.048455,
     "end_time": "2021-07-26T14:00:08.309323",
     "exception": false,
     "start_time": "2021-07-26T14:00:08.260868",
     "status": "completed"
    },
    "tags": []
   },
   "source": [
    "# Training"
   ]
  },
  {
   "cell_type": "code",
   "execution_count": 28,
   "id": "turkish-judgment",
   "metadata": {
    "execution": {
     "iopub.execute_input": "2021-07-26T14:00:08.450801Z",
     "iopub.status.busy": "2021-07-26T14:00:08.449253Z",
     "iopub.status.idle": "2021-07-26T14:00:08.454191Z",
     "shell.execute_reply": "2021-07-26T14:00:08.453750Z",
     "shell.execute_reply.started": "2021-07-25T00:39:18.048579Z"
    },
    "papermill": {
     "duration": 0.101469,
     "end_time": "2021-07-26T14:00:08.454306",
     "exception": false,
     "start_time": "2021-07-26T14:00:08.352837",
     "status": "completed"
    },
    "tags": []
   },
   "outputs": [],
   "source": [
    "class AmpNet(Net):\n",
    "    @torch.cuda.amp.autocast()\n",
    "    def forward(self,*args):\n",
    "        return super(AmpNet, self).forward(*args)\n",
    "\n",
    "is_mixed_precision = True  #True #False"
   ]
  },
  {
   "cell_type": "markdown",
   "id": "appreciated-arcade",
   "metadata": {
    "papermill": {
     "duration": 0.047075,
     "end_time": "2021-07-26T14:00:08.548932",
     "exception": false,
     "start_time": "2021-07-26T14:00:08.501857",
     "status": "completed"
    },
    "tags": []
   },
   "source": [
    "## Metric "
   ]
  },
  {
   "cell_type": "code",
   "execution_count": 29,
   "id": "stainless-drunk",
   "metadata": {
    "execution": {
     "iopub.execute_input": "2021-07-26T14:00:08.645345Z",
     "iopub.status.busy": "2021-07-26T14:00:08.644754Z",
     "iopub.status.idle": "2021-07-26T14:00:09.402857Z",
     "shell.execute_reply": "2021-07-26T14:00:09.402299Z",
     "shell.execute_reply.started": "2021-07-25T00:39:18.098229Z"
    },
    "papermill": {
     "duration": 0.809487,
     "end_time": "2021-07-26T14:00:09.403000",
     "exception": false,
     "start_time": "2021-07-26T14:00:08.593513",
     "status": "completed"
    },
    "tags": []
   },
   "outputs": [],
   "source": [
    "from sklearn.metrics import average_precision_score"
   ]
  },
  {
   "cell_type": "code",
   "execution_count": 30,
   "id": "julian-hypothesis",
   "metadata": {
    "execution": {
     "iopub.execute_input": "2021-07-26T14:00:09.515155Z",
     "iopub.status.busy": "2021-07-26T14:00:09.514265Z",
     "iopub.status.idle": "2021-07-26T14:00:09.525527Z",
     "shell.execute_reply": "2021-07-26T14:00:09.525052Z",
     "shell.execute_reply.started": "2021-07-25T00:39:18.851707Z"
    },
    "papermill": {
     "duration": 0.077171,
     "end_time": "2021-07-26T14:00:09.525643",
     "exception": false,
     "start_time": "2021-07-26T14:00:09.448472",
     "status": "completed"
    },
    "tags": []
   },
   "outputs": [],
   "source": [
    "def np_loss_cross_entropy(probability, truth):\n",
    "    batch_size = len(probability)\n",
    "    truth = truth.reshape(-1)\n",
    "    p = probability[np.arange(batch_size),truth]\n",
    "    loss = -np.log(np.clip(p,1e-6,1))\n",
    "    loss = loss.mean()\n",
    "    return loss\n",
    "\n",
    "\n",
    "def np_metric_map_curve_by_class(probability, truth):\n",
    "    num_sample, num_label = probability.shape\n",
    "    score = []\n",
    "    for i in range(num_label):\n",
    "        s = average_precision_score(truth==i, probability[:,i])\n",
    "        score.append(s)\n",
    "    score = np.array(score)\n",
    "    return score\n",
    "\n",
    "def compute_lovasz_gradient(truth): #sorted\n",
    "    truth_sum    = truth.sum()\n",
    "    intersection = truth_sum - truth.cumsum(0)\n",
    "    union        = truth_sum + (1 - truth).cumsum(0)\n",
    "    jaccard      = 1. - intersection / union\n",
    "    T = len(truth)\n",
    "    jaccard[1:T] = jaccard[1:T] - jaccard[0:T-1]\n",
    "\n",
    "    gradient = jaccard\n",
    "    return gradient\n",
    "\n",
    "\n",
    "\n",
    "\n",
    "def lovasz_hinge_one(logit , truth):\n",
    "    truth = truth.float()\n",
    "    sign  = 2. * truth - 1.\n",
    "    hinge = (1. - logit * sign)\n",
    "    hinge, permutation = torch.sort(hinge, dim=0, descending=True)\n",
    "    hinge = F.relu(hinge)\n",
    "\n",
    "    truth = truth[permutation.data]\n",
    "    gradient = compute_lovasz_gradient(truth)\n",
    "\n",
    "    loss = torch.dot(hinge, gradient)\n",
    "    return loss\n",
    "\n",
    "\n",
    "\n",
    "def lovasz_loss(logit, truth, mode='hinge'):\n",
    "\n",
    "    if mode=='hinge':\n",
    "        lovasz_one = lovasz_hinge_one\n",
    "    elif mode=='soft_hinge':\n",
    "        lovasz_one = lovasz_soft_hinge_one\n",
    "    elif mode=='logistic':\n",
    "        lovasz_one = lovasz_logistic_one\n",
    "    elif mode=='exp':\n",
    "        lovasz_one = lovasz_exp_one\n",
    "    else:\n",
    "        raise NotImplementedError\n",
    "\n",
    "    batch_size = len(truth)\n",
    "    loss = torch.zeros(batch_size).cuda()\n",
    "    for b in range(batch_size):\n",
    "        l, t = logit[b].view(-1), truth[b].view(-1)\n",
    "        loss[b] = lovasz_one(l, t)\n",
    "\n",
    "\n",
    "    return loss\n",
    "import torch\n",
    "import torch.nn as nn\n",
    "import torch.nn.functional as F\n",
    "from torch.autograd import Variable\n",
    "\n",
    "class FocalLoss(nn.Module):\n",
    "    def __init__(self, gamma=8, alpha=.2, size_average=True):\n",
    "        super(FocalLoss, self).__init__()\n",
    "        self.gamma = gamma\n",
    "        self.alpha = alpha\n",
    "        if isinstance(alpha,(float,int,long)): self.alpha = torch.Tensor([alpha,1-alpha])\n",
    "        if isinstance(alpha,list): self.alpha = torch.Tensor(alpha)\n",
    "        self.size_average = size_average\n",
    "\n",
    "    def forward(self, input, target):\n",
    "        if input.dim()>2:\n",
    "            input = input.view(input.size(0),input.size(1),-1)  # N,C,H,W => N,C,H*W\n",
    "            input = input.transpose(1,2)    # N,C,H*W => N,H*W,C\n",
    "            input = input.contiguous().view(-1,input.size(2))   # N,H*W,C => N*H*W,C\n",
    "        target = target.view(-1,1)\n",
    "\n",
    "        logpt = F.log_softmax(input)\n",
    "        logpt = logpt.gather(1,target)\n",
    "        logpt = logpt.view(-1)\n",
    "        pt = Variable(logpt.data.exp())\n",
    "\n",
    "        if self.alpha is not None:\n",
    "            if self.alpha.type()!=input.data.type():\n",
    "                self.alpha = self.alpha.type_as(input.data)\n",
    "            at = self.alpha.gather(0,target.data.view(-1))\n",
    "            logpt = logpt * Variable(at)\n",
    "\n",
    "        loss = -1 * (1-pt)**self.gamma * logpt\n",
    "        if self.size_average: return loss.mean()\n",
    "        else: return loss.sum()\n"
   ]
  },
  {
   "cell_type": "markdown",
   "id": "administrative-diploma",
   "metadata": {
    "papermill": {
     "duration": 0.0458,
     "end_time": "2021-07-26T14:00:09.619963",
     "exception": false,
     "start_time": "2021-07-26T14:00:09.574163",
     "status": "completed"
    },
    "tags": []
   },
   "source": [
    "## Augment"
   ]
  },
  {
   "cell_type": "code",
   "execution_count": 31,
   "id": "polyphonic-legend",
   "metadata": {
    "execution": {
     "iopub.execute_input": "2021-07-26T14:00:09.733907Z",
     "iopub.status.busy": "2021-07-26T14:00:09.721771Z",
     "iopub.status.idle": "2021-07-26T14:00:09.756449Z",
     "shell.execute_reply": "2021-07-26T14:00:09.756836Z",
     "shell.execute_reply.started": "2021-07-25T00:39:18.875071Z"
    },
    "papermill": {
     "duration": 0.091893,
     "end_time": "2021-07-26T14:00:09.756967",
     "exception": false,
     "start_time": "2021-07-26T14:00:09.665074",
     "status": "completed"
    },
    "tags": []
   },
   "outputs": [],
   "source": [
    "# #--- flip ---\n",
    "def do_random_hflip(image, mask):\n",
    "    if np.random.rand()>0.5:\n",
    "        image = cv2.flip(image,1)\n",
    "        mask = cv2.flip(mask,1)\n",
    "    return image, mask\n",
    "\n",
    "\n",
    "# #--- geometric ---\n",
    "def do_random_rotate(image, mask, mag=15 ):\n",
    "    angle = np.random.uniform(-1, 1)*mag\n",
    "\n",
    "    height, width = image.shape[:2]\n",
    "    cx, cy = width // 2, height // 2\n",
    "\n",
    "    transform = cv2.getRotationMatrix2D((cx, cy), -angle, 1.0)\n",
    "    image = cv2.warpAffine(image, transform, (width, height), flags=cv2.INTER_LINEAR, borderMode=cv2.BORDER_CONSTANT, borderValue=0)\n",
    "    mask = cv2.warpAffine(mask, transform, (width, height), flags=cv2.INTER_LINEAR, borderMode=cv2.BORDER_CONSTANT, borderValue=0)\n",
    "\n",
    "    return image, mask\n",
    "\n",
    "\n",
    "def do_random_scale( image, mask, mag=0.1 ):\n",
    "    s = 1 + np.random.uniform(-1, 1)*mag\n",
    "    height, width = image.shape[:2]\n",
    "    w,h = int(s*width), int(s*height)\n",
    "    if (h,w)==image.shape[:2]:\n",
    "        return image, mask\n",
    "\n",
    "    dst = np.array([\n",
    "        [0,0],[width,height], [width,0], #[0,height],\n",
    "    ]).astype(np.float32)\n",
    "\n",
    "    if s>1:\n",
    "        dx = np.random.choice(w-width)\n",
    "        dy = np.random.choice(h-height)\n",
    "        src = np.array([\n",
    "            [-dx,-dy],[-dx+w,-dy+h], [-dx+w,-dy],#[-dx,-dy+h],#\n",
    "        ]).astype(np.float32)\n",
    "    if s<1:\n",
    "        dx = np.random.choice(width-w)\n",
    "        dy = np.random.choice(height-h)\n",
    "        src = np.array([\n",
    "            [dx,dy], [dx+w,dy+h], [dx+w,dy],#\n",
    "        ]).astype(np.float32)\n",
    "\n",
    "    transform = cv2.getAffineTransform(src, dst)\n",
    "    image = cv2.warpAffine( image, transform, (width, height), flags=cv2.INTER_LINEAR, borderMode=cv2.BORDER_CONSTANT, borderValue=0)\n",
    "    mask = cv2.warpAffine( mask, transform, (width, height), flags=cv2.INTER_LINEAR, borderMode=cv2.BORDER_CONSTANT, borderValue=0)\n",
    "    return image, mask\n",
    "\n",
    "\n",
    "def do_random_stretch_y( image, mask, mag=0.25 ):\n",
    "    s = 1 + np.random.uniform(-1, 1)*mag\n",
    "    height, width = image.shape[:2]\n",
    "    h = int(s*height)\n",
    "    w = width\n",
    "    if h==height:\n",
    "        return image, mask\n",
    "\n",
    "    dst = np.array([\n",
    "        [0,0],[width,height], [width,0], #[0,height],\n",
    "    ]).astype(np.float32)\n",
    "\n",
    "\n",
    "    if s>1:\n",
    "        dx = 0#np.random.choice(w-width)\n",
    "        dy = np.random.choice(h-height)\n",
    "        src = np.array([\n",
    "            [-dx,-dy],[-dx+w,-dy+h], [-dx+w,-dy],#[-dx,-dy+h],#\n",
    "        ]).astype(np.float32)\n",
    "    if s<1:\n",
    "        dx = 0#np.random.choice(width-w)\n",
    "        dy = np.random.choice(height-h)\n",
    "        src = np.array([\n",
    "            [dx,dy], [dx+w,dy+h], [dx+w,dy],#\n",
    "        ]).astype(np.float32)\n",
    "\n",
    "    transform = cv2.getAffineTransform(src, dst)\n",
    "    image = cv2.warpAffine( image, transform, (width, height), flags=cv2.INTER_LINEAR, borderMode=cv2.BORDER_CONSTANT, borderValue=0)\n",
    "    mask = cv2.warpAffine( mask, transform, (width, height), flags=cv2.INTER_LINEAR, borderMode=cv2.BORDER_CONSTANT, borderValue=0)\n",
    "    return image, mask\n",
    "\n",
    "\n",
    "\n",
    "def do_random_stretch_x( image, mask, mag=0.25 ):\n",
    "    s = 1 + np.random.uniform(-1, 1)*mag\n",
    "    height, width = image.shape[:2]\n",
    "    h = height\n",
    "    w = int(s*width)\n",
    "    if w==width:\n",
    "        return image, mask\n",
    "\n",
    "    dst = np.array([\n",
    "        [0,0],[width,height], [width,0], #[0,height],\n",
    "    ]).astype(np.float32)\n",
    "\n",
    "    if s>1:\n",
    "        dx = np.random.choice(w-width)\n",
    "        dy = 0#np.random.choice(h-height)\n",
    "        src = np.array([\n",
    "            [-dx,-dy],[-dx+w,-dy+h], [-dx+w,-dy],#[-dx,-dy+h],#\n",
    "        ]).astype(np.float32)\n",
    "    if s<1:\n",
    "        dx = np.random.choice(width-w)\n",
    "        dy = 0#np.random.choice(height-h)\n",
    "        src = np.array([\n",
    "            [dx,dy], [dx+w,dy+h], [dx+w,dy],#\n",
    "        ]).astype(np.float32)\n",
    "\n",
    "    transform = cv2.getAffineTransform(src, dst)\n",
    "    image = cv2.warpAffine( image, transform, (width, height), flags=cv2.INTER_LINEAR, borderMode=cv2.BORDER_CONSTANT, borderValue=0)\n",
    "    mask = cv2.warpAffine( mask, transform, (width, height), flags=cv2.INTER_LINEAR, borderMode=cv2.BORDER_CONSTANT, borderValue=0)\n",
    "    return image, mask\n",
    "\n",
    "\n",
    "def do_random_shift( image, mask, mag=32 ):\n",
    "    b = mag\n",
    "    height, width = image.shape[:2]\n",
    "\n",
    "    image = cv2.copyMakeBorder(image, b,b,b,b, borderType=cv2.BORDER_CONSTANT, value=0)\n",
    "    mask  = cv2.copyMakeBorder(mask, b,b,b,b, borderType=cv2.BORDER_CONSTANT, value=0)\n",
    "    x = np.random.randint(0,2*b)\n",
    "    y = np.random.randint(0,2*b)\n",
    "    image = image[y:y+height,x:x+width]\n",
    "    mask = mask[y:y+height,x:x+width]\n",
    "\n",
    "    return image, mask\n",
    "\n",
    "###########################################################################################3\n",
    "\n",
    "\n",
    "\n",
    "# #--- noise ---\n",
    "def do_random_blurout(image, size=0.20, num_cut=3):\n",
    "    height, width = image.shape[:2]\n",
    "    size = int(size*(height+width)/2)\n",
    "    for t in range(num_cut):\n",
    "        x = np.random.randint(0,width- size)\n",
    "        y = np.random.randint(0,height-size)\n",
    "        x0 = x\n",
    "        x1 = x+size\n",
    "        y0 = y\n",
    "        y1 = y+size\n",
    "        image[y0:y1,x0:x1]=image[y0:y1,x0:x1].mean()\n",
    "\n",
    "    return image\n",
    "\n",
    "def do_random_guassian_blur(image, mag=[0.1, 2.0]):\n",
    "    sigma = np.random.uniform(mag[0],mag[1])\n",
    "    image = cv2.GaussianBlur(image, (23, 23), sigma)\n",
    "    return image\n",
    "\n",
    "def do_random_noise(image, mag=0.08):\n",
    "    height, width = image.shape[:2]\n",
    "\n",
    "    image = image.astype(np.float32)/255\n",
    "    noise = np.random.uniform(-1,1,size=(height,width))*mag\n",
    "    image = image+noise\n",
    "\n",
    "    image = np.clip(image,0,1)\n",
    "    image = (image*255).astype(np.uint8)\n",
    "    return image\n",
    "\n",
    "\n",
    "\n",
    "# # --- intensity ---\n",
    "def do_random_intensity_shift_contast(image, mag=[0.3,0.2]):\n",
    "    image = (image).astype(np.float32)/255\n",
    "    alpha0 = 1 + np.random.uniform(-1,1)*mag[0]\n",
    "    alpha1 = np.random.uniform(-1,1)*mag[1]\n",
    "    image = (image+alpha1)\n",
    "    image = np.clip(image,0,1)\n",
    "    image = image**alpha0\n",
    "    image = np.clip(image,0,1)\n",
    "    image = (image*255).astype(np.uint8)\n",
    "    return image\n",
    "\n",
    "#https://answers.opencv.org/question/12024/use-of-clahe/)\n",
    "def do_random_clahe(image, mag=[[2,4],[6,12]]):\n",
    "    l = np.random.uniform(*mag[0])\n",
    "    g = np.random.randint(*mag[1])\n",
    "    clahe = cv2.createCLAHE(clipLimit=l, tileGridSize=(g, g))\n",
    "\n",
    "    image = clahe.apply(image)\n",
    "    return image\n",
    "\n",
    "# https://github.com/facebookresearch/CovidPrognosis/blob/master/covidprognosis/data/transforms.py\n",
    "def do_histogram_norm(image, mag=[[2,4],[6,12]]):\n",
    "    num_bin = 255\n",
    "\n",
    "    histogram, bin = np.histogram( image.flatten(), num_bin, density=True)\n",
    "    cdf = histogram.cumsum()  # cumulative distribution function\n",
    "    cdf = 255 * cdf / cdf[-1]  # normalize\n",
    "\n",
    "    # use linear interpolation of cdf to find new pixel values\n",
    "    equalized = np.interp(image.flatten(), bin[:-1], cdf)\n",
    "    image = equalized.reshape(image.shape)\n",
    "    return image"
   ]
  },
  {
   "cell_type": "code",
   "execution_count": 32,
   "id": "regulation-string",
   "metadata": {
    "execution": {
     "iopub.execute_input": "2021-07-26T14:00:09.861506Z",
     "iopub.status.busy": "2021-07-26T14:00:09.860791Z",
     "iopub.status.idle": "2021-07-26T14:00:09.863124Z",
     "shell.execute_reply": "2021-07-26T14:00:09.863482Z",
     "shell.execute_reply.started": "2021-07-25T00:39:18.925363Z"
    },
    "papermill": {
     "duration": 0.057686,
     "end_time": "2021-07-26T14:00:09.863607",
     "exception": false,
     "start_time": "2021-07-26T14:00:09.805921",
     "status": "completed"
    },
    "tags": []
   },
   "outputs": [],
   "source": [
    "def do_valid(net, valid_loader):\n",
    "\n",
    "    valid_probability = []\n",
    "    valid_truth = []\n",
    "    valid_num = 0\n",
    "\n",
    "    net.eval()\n",
    "    start_timer = timer()\n",
    "    for t, batch in enumerate(valid_loader):\n",
    "        batch_size = len(batch['index'])\n",
    "        image = batch['image'].cuda()\n",
    "        onehot = batch['onehot']\n",
    "        label = onehot.argmax(-1)\n",
    "\n",
    "        with torch.no_grad():\n",
    "            #with amp.autocast():\n",
    "                logit, mask = data_parallel(net,image)\n",
    "                probability = F.softmax(logit,-1)\n",
    "\n",
    "        valid_num += batch_size\n",
    "        valid_probability.append(probability.data.cpu().numpy())\n",
    "        valid_truth.append(label.data.cpu().numpy())\n",
    "        print('\\r %8d / %d  %s'%(valid_num, len(valid_loader.dataset),time_to_str(timer() - start_timer,'sec')),end='',flush=True)\n",
    "\n",
    "    assert(valid_num == len(valid_loader.dataset))\n",
    "    #print('')\n",
    "    #----------------------\n",
    "    truth = np.concatenate(valid_truth)\n",
    "    probability = np.concatenate(valid_probability)\n",
    "    predict = probability.argsort(-1)[::-1]\n",
    "\n",
    "    loss = np_loss_cross_entropy(probability,truth)\n",
    "    topk = (predict==truth.reshape(-1,1))\n",
    "    acc  = topk[:, 0]\n",
    "    topk = topk.mean(0).cumsum()\n",
    "    acc = [acc[truth==i].mean() for i in range(num_study_label)]\n",
    "\n",
    "    #---\n",
    "    map  = np_metric_map_curve_by_class(probability, truth)*(4/6)\n",
    "\n",
    "    return [loss, map.mean(), topk[0], topk[1]]"
   ]
  },
  {
   "cell_type": "code",
   "execution_count": 33,
   "id": "frozen-destruction",
   "metadata": {
    "execution": {
     "iopub.execute_input": "2021-07-26T14:00:09.979558Z",
     "iopub.status.busy": "2021-07-26T14:00:09.978671Z",
     "iopub.status.idle": "2021-07-26T14:00:09.981503Z",
     "shell.execute_reply": "2021-07-26T14:00:09.980929Z"
    },
    "papermill": {
     "duration": 0.06926,
     "end_time": "2021-07-26T14:00:09.981622",
     "exception": false,
     "start_time": "2021-07-26T14:00:09.912362",
     "status": "completed"
    },
    "tags": []
   },
   "outputs": [],
   "source": [
    "import torch\n",
    "import torch.nn as nn\n",
    "import torch.nn.functional as F\n",
    "import torch.cuda.amp as amp\n",
    "\n",
    "\n",
    "##\n",
    "# version 1: use torch.autograd\n",
    "class FocalLossV1(nn.Module):\n",
    "\n",
    "    def __init__(self,\n",
    "                 alpha=0.25,\n",
    "                 gamma=2,\n",
    "                 reduction='mean',):\n",
    "        super(FocalLossV1, self).__init__()\n",
    "        self.alpha = alpha\n",
    "        self.gamma = gamma\n",
    "        self.reduction = reduction\n",
    "        self.crit = nn.BCEWithLogitsLoss(reduction='none')\n",
    "\n",
    "    def forward(self, logits, label):\n",
    "        '''\n",
    "        Usage is same as nn.BCEWithLogits:\n",
    "            >>> criteria = FocalLossV1()\n",
    "            >>> logits = torch.randn(8, 19, 384, 384)\n",
    "            >>> lbs = torch.randint(0, 2, (8, 19, 384, 384)).float()\n",
    "            >>> loss = criteria(logits, lbs)\n",
    "        '''\n",
    "        probs = torch.sigmoid(logits)\n",
    "        coeff = torch.abs(label - probs).pow(self.gamma).neg()\n",
    "        log_probs = torch.where(logits >= 0,\n",
    "                F.softplus(logits, -1, 50),\n",
    "                logits - F.softplus(logits, 1, 50))\n",
    "        log_1_probs = torch.where(logits >= 0,\n",
    "                -logits + F.softplus(logits, -1, 50),\n",
    "                -F.softplus(logits, 1, 50))\n",
    "        loss = label * self.alpha * log_probs + (1. - label) * (1. - self.alpha) * log_1_probs\n",
    "        loss = loss * coeff\n",
    "\n",
    "        if self.reduction == 'mean':\n",
    "            loss = loss.mean()\n",
    "        if self.reduction == 'sum':\n",
    "            loss = loss.sum()\n",
    "        return loss\n",
    "\n",
    "\n",
    "##\n",
    "# version 2: user derived grad computation\n",
    "class FocalSigmoidLossFuncV2(torch.autograd.Function):\n",
    "    '''\n",
    "    compute backward directly for better numeric stability\n",
    "    '''\n",
    "    @staticmethod\n",
    "    @amp.custom_fwd(cast_inputs=torch.float32)\n",
    "    def forward(ctx, logits, label, alpha, gamma):\n",
    "        #  logits = logits.float()\n",
    "\n",
    "        probs = torch.sigmoid(logits)\n",
    "        coeff = (label - probs).abs_().pow_(gamma).neg_()\n",
    "        log_probs = torch.where(logits >= 0,\n",
    "                F.softplus(logits, -1, 50),\n",
    "                logits - F.softplus(logits, 1, 50))\n",
    "        log_1_probs = torch.where(logits >= 0,\n",
    "                -logits + F.softplus(logits, -1, 50),\n",
    "                -F.softplus(logits, 1, 50))\n",
    "        ce_term1 = log_probs.mul_(label).mul_(alpha)\n",
    "        ce_term2 = log_1_probs.mul_(1. - label).mul_(1. - alpha)\n",
    "        ce = ce_term1.add_(ce_term2)\n",
    "        loss = ce * coeff\n",
    "\n",
    "        ctx.vars = (coeff, probs, ce, label, gamma, alpha)\n",
    "\n",
    "        return loss\n",
    "\n",
    "    @staticmethod\n",
    "    @amp.custom_bwd\n",
    "    def backward(ctx, grad_output):\n",
    "        '''\n",
    "        compute gradient of focal loss\n",
    "        '''\n",
    "        (coeff, probs, ce, label, gamma, alpha) = ctx.vars\n",
    "\n",
    "        d_coeff = (label - probs).abs_().pow_(gamma - 1.).mul_(gamma)\n",
    "        d_coeff.mul_(probs).mul_(1. - probs)\n",
    "        d_coeff = torch.where(label < probs, d_coeff.neg(), d_coeff)\n",
    "        term1 = d_coeff.mul_(ce)\n",
    "\n",
    "        d_ce = label * alpha\n",
    "        d_ce.sub_(probs.mul_((label * alpha).mul_(2).add_(1).sub_(label).sub_(alpha)))\n",
    "        term2 = d_ce.mul(coeff)\n",
    "\n",
    "        grads = term1.add_(term2)\n",
    "        grads.mul_(grad_output)\n",
    "\n",
    "        return grads, None, None, None\n",
    "\n",
    "\n",
    "class FocalLossV2(nn.Module):\n",
    "\n",
    "    def __init__(self,\n",
    "                 alpha=0.25,\n",
    "                 gamma=2,\n",
    "                 reduction='sum'):\n",
    "        super(FocalLossV2, self).__init__()\n",
    "        self.alpha = alpha\n",
    "        self.gamma = gamma\n",
    "        self.reduction = reduction\n",
    "\n",
    "    def forward(self, logits, label):\n",
    "        '''\n",
    "        Usage is same as nn.BCEWithLogits:\n",
    "            >>> criteria = FocalLossV2()\n",
    "            >>> logits = torch.randn(8, 19, 384, 384)\n",
    "            >>> lbs = torch.randint(0, 2, (8, 19, 384, 384)).float()\n",
    "            >>> loss = criteria(logits, lbs)\n",
    "        '''\n",
    "        loss = FocalSigmoidLossFuncV2.apply(logits, label, self.alpha, self.gamma)\n",
    "        if self.reduction == 'mean':\n",
    "            loss = loss.mean()\n",
    "        if self.reduction == 'sum':\n",
    "            loss = loss.sum()\n",
    "        return loss\n",
    "\n",
    "\n",
    "##\n"
   ]
  },
  {
   "cell_type": "code",
   "execution_count": 34,
   "id": "clean-means",
   "metadata": {
    "execution": {
     "iopub.execute_input": "2021-07-26T14:00:10.088312Z",
     "iopub.status.busy": "2021-07-26T14:00:10.087436Z",
     "iopub.status.idle": "2021-07-26T14:00:10.090449Z",
     "shell.execute_reply": "2021-07-26T14:00:10.089969Z",
     "shell.execute_reply.started": "2021-07-25T00:50:26.93676Z"
    },
    "papermill": {
     "duration": 0.058646,
     "end_time": "2021-07-26T14:00:10.090573",
     "exception": false,
     "start_time": "2021-07-26T14:00:10.031927",
     "status": "completed"
    },
    "tags": []
   },
   "outputs": [],
   "source": [
    "def train_augment(r):\n",
    "    image = r['image']\n",
    "    mask = r['mask']\n",
    "    # if image[:2].shape != (image_size, image_size):\n",
    "    #     image = cv2.resize(image, dsize=(image_size, image_size), interpolation=cv2.INTER_AREA)\n",
    "\n",
    "    if 1:\n",
    "        for fn in np.random.choice([\n",
    "            lambda image, mask : do_random_scale(image, mask, mag=0.20),\n",
    "            lambda image, mask : do_random_stretch_y(image, mask, mag=0.20),\n",
    "            lambda image, mask : do_random_stretch_x(image, mask, mag=0.20),\n",
    "            lambda image, mask : do_random_shift(image, mask, mag=int(0.20*image_size)),\n",
    "            lambda image, mask : (image, mask)\n",
    "        ],1):\n",
    "            image, mask = fn(image, mask)\n",
    "\n",
    "        for fn in np.random.choice([\n",
    "            lambda image, mask : do_random_rotate(image, mask, mag=15),\n",
    "            lambda image, mask : do_random_hflip(image, mask),\n",
    "            lambda image, mask : (image, mask)\n",
    "        ],1):\n",
    "            image, mask = fn(image, mask)\n",
    "\n",
    "        # ------------------------\n",
    "        for fn in np.random.choice([\n",
    "            lambda image : do_random_intensity_shift_contast(image, mag=[0.5,0.5]),\n",
    "            lambda image : do_random_noise(image, mag=0.05),\n",
    "            lambda image : do_random_guassian_blur(image),\n",
    "            lambda image : do_random_blurout(image, size=0.25, num_cut=2),\n",
    "            #lambda image : do_random_clahe(image),\n",
    "            #lambda image : do_histogram_norm(image),\n",
    "            lambda image : image,\n",
    "        ],1):\n",
    "            image = fn(image)\n",
    "\n",
    "    r['image'] = image\n",
    "    r['mask'] = mask\n",
    "    return r"
   ]
  },
  {
   "cell_type": "code",
   "execution_count": 35,
   "id": "bacterial-driving",
   "metadata": {
    "execution": {
     "iopub.execute_input": "2021-07-26T14:00:10.187982Z",
     "iopub.status.busy": "2021-07-26T14:00:10.187269Z",
     "iopub.status.idle": "2021-07-26T14:00:10.189647Z",
     "shell.execute_reply": "2021-07-26T14:00:10.190054Z",
     "shell.execute_reply.started": "2021-07-25T00:50:27.304165Z"
    },
    "papermill": {
     "duration": 0.051123,
     "end_time": "2021-07-26T14:00:10.190182",
     "exception": false,
     "start_time": "2021-07-26T14:00:10.139059",
     "status": "completed"
    },
    "tags": []
   },
   "outputs": [],
   "source": [
    "config = {\n",
    "    \"image_size\":image_size,\n",
    "    \"start_lr\":1e-3,\n",
    "    #fold = [0, 1, 2, 3, 4]\n",
    "    \"foldlist\":[0, 1, 3, 4],\n",
    "    \"batchsize\":8,\n",
    "    \"num_iteration\":7000,\n",
    "    \"iter_log\":200,\n",
    "    \"iter_valid\":200\n",
    "    \n",
    "}"
   ]
  },
  {
   "cell_type": "code",
   "execution_count": 36,
   "id": "successful-designation",
   "metadata": {
    "execution": {
     "iopub.execute_input": "2021-07-26T14:00:10.303318Z",
     "iopub.status.busy": "2021-07-26T14:00:10.297905Z",
     "iopub.status.idle": "2021-07-26T14:00:10.325103Z",
     "shell.execute_reply": "2021-07-26T14:00:10.325581Z",
     "shell.execute_reply.started": "2021-07-25T00:52:15.083674Z"
    },
    "papermill": {
     "duration": 0.086481,
     "end_time": "2021-07-26T14:00:10.325751",
     "exception": false,
     "start_time": "2021-07-26T14:00:10.239270",
     "status": "completed"
    },
    "tags": []
   },
   "outputs": [],
   "source": [
    "IDENTIFIER   = datetime.now().strftime('%Y-%m-%d_%H-%M-%S')\n",
    "def run_train():\n",
    "    \n",
    "    #wandb.watch(Net, criterion, log=\"all\", log_freq=10)\n",
    "    \n",
    "    #for fold in [0,1,2,3,4]:\n",
    "    for fold in config[\"foldlist\"]:\n",
    "        \n",
    "        wandb.init(project=\"kagglesegg\", config=config)\n",
    "        \n",
    "        out_dir = \"./\"\n",
    "        initial_checkpoint = None\n",
    "            #out_dir + '/checkpoint/00007700_model.pth' \n",
    "            \n",
    "\n",
    "        #start_lr   = 0.0001#1\n",
    "        start_lr = config[\"start_lr\"]\n",
    "        batch_size = config[\"batchsize\"] #14 #22\n",
    "\n",
    "        #num_iteration = 12000\n",
    "        num_iteration = config[\"num_iteration\"]\n",
    "        iter_log    = config[\"iter_log\"]\n",
    "        iter_valid  = config[\"iter_valid\"]\n",
    "        iter_save   = list(range(0, num_iteration+1, 200))\n",
    "\n",
    "        ## setup  ----------------------------------------\n",
    "        for f in ['checkpoint', 'train', 'valid', 'backup']: os.makedirs(out_dir + '/' + f, exist_ok=True)\n",
    "        # backup_project_as_zip(PROJECT_PATH, out_dir +'/backup/code.train.%s.zip'%IDENTIFIER)\n",
    "\n",
    "        log = Logger()\n",
    "        log.open(out_dir + '/log.train.txt', mode='a')\n",
    "        log.write('\\n--- [START %s] %s\\n\\n' % (IDENTIFIER, '-' * 64))\n",
    "        #log.write('\\t%s\\n' % COMMON_STRING)\n",
    "        #log.write('\\t__file__ = %s\\n' % __file__)\n",
    "        log.write('\\tout_dir  = %s\\n' % out_dir)\n",
    "        log.write('\\n')\n",
    "\n",
    "        ## dataset ------------------------------------\n",
    "        df_train, df_valid = make_fold('train-%d'%fold)\n",
    "        \n",
    "        train_dataset = SiimDataset(df_train, train_augment)\n",
    "        #train_dataset = SiimDataset(df_train, )\n",
    "        valid_dataset = SiimDataset(df_valid, )\n",
    "\n",
    "        train_loader = DataLoader(\n",
    "            train_dataset,\n",
    "            sampler = RandomSampler(train_dataset),\n",
    "            batch_size = batch_size,\n",
    "            drop_last   = True,\n",
    "            num_workers = 4,\n",
    "            pin_memory  = True,\n",
    "            worker_init_fn=lambda id: np.random.seed(torch.initial_seed() // 2 ** 32 + id),\n",
    "            collate_fn  = null_collate,\n",
    "        )\n",
    "        valid_loader  = DataLoader(\n",
    "            valid_dataset,\n",
    "            sampler = SequentialSampler(valid_dataset),\n",
    "            batch_size  = 16,\n",
    "            drop_last   = False,\n",
    "            num_workers = 4,\n",
    "            pin_memory  = True,\n",
    "            collate_fn  = null_collate,\n",
    "        )\n",
    "\n",
    "        log.write('train_dataset : \\n%s\\n'%(train_dataset))\n",
    "        log.write('valid_dataset : \\n%s\\n'%(valid_dataset))\n",
    "        log.write('\\n')\n",
    "\n",
    "\n",
    "        ## net ----------------------------------------\n",
    "        log.write('** net setting **\\n')\n",
    "        if is_mixed_precision:\n",
    "            scaler = amp.GradScaler()\n",
    "            net = AmpNet().cuda()\n",
    "        else:\n",
    "            net = Net().cuda()\n",
    "\n",
    "\n",
    "        if initial_checkpoint is not None:\n",
    "            f = torch.load(initial_checkpoint, map_location=lambda storage, loc: storage)\n",
    "            start_iteration = f['iteration']\n",
    "            start_epoch = f['epoch']\n",
    "            state_dict  = f['state_dict']\n",
    "            net.load_state_dict(state_dict,strict=True)  #True\n",
    "        else:\n",
    "            start_iteration = 0\n",
    "            start_epoch = 0\n",
    "\n",
    "\n",
    "        log.write('net=%s\\n'%(type(net)))\n",
    "        log.write('\\tinitial_checkpoint = %s\\n' % initial_checkpoint)\n",
    "        log.write('\\n')\n",
    "\n",
    "        # -----------------------------------------------\n",
    "        if 0: ##freeze\n",
    "            for p in net.block0.backbone.parameters(): p.requires_grad = False\n",
    "\n",
    "\n",
    "        #optimizer = Lookahead(RAdam(filter(lambda p: p.requires_grad, net.parameters()),lr=start_lr), alpha=0.5, k=5)\n",
    "        #optimizer = RAdam(filter(lambda p: p.requires_grad, net.parameters()),lr=start_lr)\n",
    "        #optimizer = MADGRAD( filter(lambda p: p.requires_grad, net.parameters()), lr=start_lr, momentum= 0.9, weight_decay= 0, eps= 1e-06)\n",
    "        #optimizer = Adam(net.parameters(), lr=start_lr)\n",
    "        \n",
    "        optimizer = MADGRAD( filter(lambda p: p.requires_grad, net.parameters()), lr=start_lr, momentum= 0.9, weight_decay= 0, eps= 1e-06)\n",
    "        \n",
    "        # num_iteration = 8000\n",
    "        # iter_log    = 100\n",
    "        # iter_valid  = 100\n",
    "        # iter_save   = list(range(0, num_iteration, 100))#1*1000\n",
    "\n",
    "        log.write('optimizer\\n  %s\\n'%(optimizer))\n",
    "        log.write('\\n')\n",
    "\n",
    "\n",
    "        ## start training here! ##############################################\n",
    "        log.write('** start training here! **\\n')\n",
    "        log.write('   fold = %d\\n'%(fold))\n",
    "        log.write('   is_mixed_precision = %s \\n'%str(is_mixed_precision))\n",
    "        log.write('   batch_size = %d\\n'%(batch_size))\n",
    "        #log.write('   experiment = %s\\n' % str(__file__.split('/')[-2:]))\n",
    "        log.write('                      |----- VALID ---|---- TRAIN/BATCH --------------\\n')\n",
    "        log.write('rate     iter   epoch | loss    map  topk_0 topk_1  | loss0  loss1 loss2 | time          \\n')\n",
    "        log.write('----------------------------------------------------------------------\\n')\n",
    "                  #0.00000   0.00* 0.00  | 0.000  0.000  0.000  0.000  | 0.000  0.000  0.000 |  0 hr 00 min\n",
    "\n",
    "        def message(mode='print'):\n",
    "            if mode==('print'):\n",
    "                asterisk = ' '\n",
    "                loss = batch_loss\n",
    "            if mode==('log'):\n",
    "                asterisk = '*' if iteration in iter_save else ' '\n",
    "                loss = train_loss\n",
    "\n",
    "            text = \\\n",
    "                '%0.5f  %5.3f%s %4.2f  | '%(rate, iteration/10000, asterisk, epoch,) +\\\n",
    "                '%4.3f  %4.3f  %4.3f  %4.3f  | '%(*valid_loss,) +\\\n",
    "                '%4.3f  %4.3f  %4.3f  | '%(*loss,) +\\\n",
    "                '%s' % (time_to_str(timer() - start_timer,'min'))\n",
    "\n",
    "            return text\n",
    "\n",
    "        #----\n",
    "        valid_loss = np.zeros(4,np.float32)\n",
    "        train_loss = np.zeros(3,np.float32)\n",
    "        batch_loss = np.zeros_like(train_loss)\n",
    "        sum_train_loss = np.zeros_like(train_loss)\n",
    "        sum_train = 0\n",
    "        loss0 = torch.FloatTensor([0]).cuda().sum()\n",
    "        loss1 = torch.FloatTensor([0]).cuda().sum()\n",
    "        loss2 = torch.FloatTensor([0]).cuda().sum()\n",
    "\n",
    "\n",
    "        start_timer = timer()\n",
    "        iteration = start_iteration\n",
    "        epoch = start_epoch\n",
    "        rate = 0\n",
    "        while  iteration < num_iteration:\n",
    "\n",
    "            for t, batch in enumerate(train_loader):\n",
    "\n",
    "                if iteration in iter_save:\n",
    "                    if iteration != start_iteration:\n",
    "                        torch.save({\n",
    "                            'state_dict': net.state_dict(),\n",
    "                            'iteration': iteration,\n",
    "                            'epoch': epoch,\n",
    "                        }, out_dir + '/checkpoint/fold%08d_%08d_model.pth' % (fold,iteration))\n",
    "                        \n",
    "                        wandb.save(out_dir + '/checkpoint/fold%08d_%08d_model.pth' % (fold,iteration))\n",
    "                        \n",
    "                        pass\n",
    "\n",
    "                if (iteration % iter_valid == 0):\n",
    "                    #if iteration!=start_iteration:\n",
    "                        valid_loss = do_valid(net, valid_loader)  #\n",
    "                        pass\n",
    "\n",
    "                if (iteration % iter_log == 0):\n",
    "                    print('\\r', end='', flush=True)\n",
    "                    log.write(message(mode='log') + '\\n')\n",
    "                    wandb.log({\n",
    "                        \"fold\": fold,\n",
    "                        \"epoch\": epoch, \n",
    "                        \"rate\": rate,\n",
    "                        \"iterate\": iteration/10000,\n",
    "                        \"valid_loss\": valid_loss[0], \n",
    "                        \"valid_map\": valid_loss[1],\n",
    "                        \"valid_topk_0\": valid_loss[2], \n",
    "                        \"valid_topk_1\": valid_loss[3],\n",
    "                        \"train_ce_loss\": loss0, \n",
    "                        \"train_bce_loss\": loss1\n",
    "                    }, \n",
    "                        step=iteration)#\n",
    "\n",
    "\n",
    "                # learning rate schduler ------------\n",
    "                rate = get_learning_rate(optimizer)\n",
    "\n",
    "                # one iteration update  -------------\n",
    "                batch_size = len(batch['index'])\n",
    "                image = batch['image'].cuda()\n",
    "                truth_mask = batch['mask'].cuda()\n",
    "                truth_mask = F.interpolate(truth_mask, size=(32,32), mode='bilinear', align_corners=False)\n",
    "                #truth_mask = F.interpolate(truth_mask, size=(16,16), mode='bilinear', align_corners=False)\n",
    "                onehot = batch['onehot'].cuda()\n",
    "                label = onehot.argmax(-1)\n",
    "\n",
    "                #----\n",
    "                net.train()\n",
    "                optimizer.zero_grad()\n",
    "                custom_loss = FocalLossV2()\n",
    "\n",
    "                if is_mixed_precision:\n",
    "                    with amp.autocast():\n",
    "                        logit, mask = data_parallel(net, image)\n",
    "                        loss0 = F.cross_entropy(logit, label)\n",
    "                        #loss1 = F.binary_cross_entropy_with_logits(mask, truth_mask)\n",
    "                        #loss1 = custom_loss(mask,truth_mask)\n",
    "                        loss1 = lovasz_loss(mask,truth_mask).cuda().sum()\n",
    "\n",
    "                    #scaler.scale(loss0).backward()\n",
    "                    #scaler.scale(loss1).backward()\n",
    "                    #segg = .75*loss2 + .25*loss1\n",
    "                    scaler.scale(loss0+loss1).backward()\n",
    "                    scaler.unscale_(optimizer)\n",
    "                    #torch.nn.utils.clip_grad_norm_(net.parameters(), 2)\n",
    "                    scaler.step(optimizer)\n",
    "                    scaler.update()\n",
    "\n",
    "\n",
    "                else :\n",
    "                    assert(False)\n",
    "                    print('fp32')\n",
    "                    logit, mask = data_parallel(net, image)\n",
    "                    loss0 = F.cross_entropy(logit, label)\n",
    "                    loss1 = F.binary_cross_entropy_with_logits(mask, truth_mask)\n",
    "\n",
    "                    (loss0+loss1).backward()\n",
    "                    optimizer.step()\n",
    "\n",
    "\n",
    "                # print statistics  --------\n",
    "                epoch += 1 / len(train_loader)\n",
    "                iteration += 1\n",
    "\n",
    "                batch_loss = np.array([loss0.item(), loss1.item(), loss2.item()])\n",
    "                sum_train_loss += batch_loss\n",
    "                sum_train += 1\n",
    "                if iteration % 100 == 0:\n",
    "                    train_loss = sum_train_loss / (sum_train + 1e-12)\n",
    "                    sum_train_loss[...] = 0\n",
    "                    sum_train = 0\n",
    "\n",
    "                print('\\r', end='', flush=True)\n",
    "                print(message(mode='print'), end='', flush=True)\n",
    "\n",
    "\n",
    "        log.write('\\n')\n",
    "        wandb.finish()"
   ]
  },
  {
   "cell_type": "code",
   "execution_count": 37,
   "id": "threaded-defendant",
   "metadata": {
    "execution": {
     "iopub.execute_input": "2021-07-26T14:00:10.434862Z",
     "iopub.status.busy": "2021-07-26T14:00:10.434035Z",
     "iopub.status.idle": "2021-07-26T21:23:44.447835Z",
     "shell.execute_reply": "2021-07-26T21:23:44.448296Z"
    },
    "papermill": {
     "duration": 26614.073631,
     "end_time": "2021-07-26T21:23:44.448472",
     "exception": false,
     "start_time": "2021-07-26T14:00:10.374841",
     "status": "completed"
    },
    "tags": []
   },
   "outputs": [
    {
     "name": "stderr",
     "output_type": "stream",
     "text": [
      "\u001b[34m\u001b[1mwandb\u001b[0m: Currently logged in as: \u001b[33mhaplophryne\u001b[0m (use `wandb login --relogin` to force relogin)\n"
     ]
    },
    {
     "data": {
      "text/html": [
       "\n",
       "                Tracking run with wandb version 0.11.0<br/>\n",
       "                Syncing run <strong style=\"color:#cdcd00\">gallant-water-1</strong> to <a href=\"https://wandb.ai\" target=\"_blank\">Weights & Biases</a> <a href=\"https://docs.wandb.com/integrations/jupyter.html\" target=\"_blank\">(Documentation)</a>.<br/>\n",
       "                Project page: <a href=\"https://wandb.ai/haplophryne/kagglesegg\" target=\"_blank\">https://wandb.ai/haplophryne/kagglesegg</a><br/>\n",
       "                Run page: <a href=\"https://wandb.ai/haplophryne/kagglesegg/runs/10kt51eb\" target=\"_blank\">https://wandb.ai/haplophryne/kagglesegg/runs/10kt51eb</a><br/>\n",
       "                Run data is saved locally in <code>/kaggle/working/wandb/run-20210726_140010-10kt51eb</code><br/><br/>\n",
       "            "
      ],
      "text/plain": [
       "<IPython.core.display.HTML object>"
      ]
     },
     "metadata": {},
     "output_type": "display_data"
    },
    {
     "name": "stdout",
     "output_type": "stream",
     "text": [
      "\n",
      "--- [START 2021-07-26_14-00-10] ----------------------------------------------------------------\n",
      "\n",
      "\tout_dir  = ./\n",
      "\n",
      "train_dataset : \n",
      "\tlen = 4985\n",
      "\tdf  = (4985, 12)\n",
      "\tlabel distribution\n",
      "\t\t 0     Negative for Pneumonia:  1370 (0.2748)\n",
      "\t\t 1         Typical Appearance:  2364 (0.4742)\n",
      "\t\t 2   Indeterminate Appearance:   868 (0.1741)\n",
      "\t\t 3        Atypical Appearance:   383 (0.0768)\n",
      "\n",
      "valid_dataset : \n",
      "\tlen = 1242\n",
      "\tdf  = (1242, 12)\n",
      "\tlabel distribution\n",
      "\t\t 0     Negative for Pneumonia:   339 (0.2729)\n",
      "\t\t 1         Typical Appearance:   594 (0.4783)\n",
      "\t\t 2   Indeterminate Appearance:   214 (0.1723)\n",
      "\t\t 3        Atypical Appearance:    95 (0.0765)\n",
      "\n",
      "\n",
      "** net setting **\n"
     ]
    },
    {
     "name": "stderr",
     "output_type": "stream",
     "text": [
      "Downloading: \"https://github.com/rwightman/pytorch-image-models/releases/download/v0.1-weights/efficientnet_b3_ra2-cf984f9c.pth\" to /root/.cache/torch/hub/checkpoints/efficientnet_b3_ra2-cf984f9c.pth\n"
     ]
    },
    {
     "name": "stdout",
     "output_type": "stream",
     "text": [
      "net=<class '__main__.AmpNet'>\n",
      "\tinitial_checkpoint = None\n",
      "\n",
      "optimizer\n",
      "  MADGRAD (\n",
      "Parameter Group 0\n",
      "    eps: 1e-06\n",
      "    lr: 0.001\n",
      "    momentum: 0.9\n",
      "    weight_decay: 0\n",
      ")\n",
      "\n",
      "** start training here! **\n",
      "   fold = 0\n",
      "   is_mixed_precision = True \n",
      "   batch_size = 8\n",
      "                      |----- VALID ---|---- TRAIN/BATCH --------------\n",
      "rate     iter   epoch | loss    map  topk_0 topk_1  | loss0  loss1 loss2 | time          \n",
      "----------------------------------------------------------------------\n",
      "0.00000  0.000* 0.00  | 1.425  0.175  0.312  0.612  | 0.000  0.000  0.000  |  0 hr 00 min\n",
      "0.00100  0.020* 0.32  | 1.694  0.264  0.080  0.408  | 1.125  8.054  0.000  |  0 hr 03 min\n",
      "0.00100  0.040* 0.64  | 1.021  0.305  0.107  0.376  | 1.177  8.019  0.000  |  0 hr 06 min\n",
      "0.00100  0.060* 0.96  | 1.045  0.296  0.076  0.328  | 1.126  8.019  0.000  |  0 hr 08 min\n",
      "0.00100  0.080* 1.28  | 1.031  0.307  0.196  0.443  | 1.050  8.013  0.000  |  0 hr 11 min\n",
      "0.00100  0.100* 1.61  | 1.129  0.307  0.194  0.390  | 1.034  8.019  0.000  |  0 hr 14 min\n",
      "0.00100  0.120* 1.93  | 0.966  0.318  0.224  0.410  | 1.018  8.023  0.000  |  0 hr 17 min\n",
      "0.00100  0.140* 2.25  | 1.056  0.296  0.172  0.467  | 0.972  8.010  0.000  |  0 hr 20 min\n",
      "0.00100  0.160* 2.57  | 0.972  0.314  0.158  0.362  | 1.056  8.040  0.000  |  0 hr 23 min\n",
      "0.00100  0.180* 2.89  | 0.998  0.318  0.217  0.434  | 1.060  8.012  0.000  |  0 hr 26 min\n",
      "0.00100  0.200* 3.21  | 0.936  0.328  0.196  0.372  | 0.976  8.023  0.000  |  0 hr 29 min\n",
      "0.00100  0.220* 3.53  | 1.011  0.314  0.134  0.397  | 1.044  8.017  0.000  |  0 hr 32 min\n",
      "0.00100  0.240* 3.85  | 1.071  0.265  0.094  0.353  | 1.082  8.319  0.000  |  0 hr 35 min\n",
      "0.00100  0.260* 4.17  | 1.028  0.295  0.152  0.373  | 1.108  8.032  0.000  |  0 hr 38 min\n",
      "0.00100  0.280* 4.49  | 0.962  0.315  0.156  0.378  | 1.005  8.021  0.000  |  0 hr 41 min\n",
      "0.00100  0.300* 4.82  | 1.016  0.293  0.110  0.308  | 1.112  8.145  0.000  |  0 hr 44 min\n",
      "0.00100  0.320* 5.14  | 1.000  0.319  0.211  0.420  | 1.081  8.031  0.000  |  0 hr 47 min\n",
      "0.00100  0.340* 5.46  | 1.010  0.323  0.173  0.341  | 1.055  8.010  0.000  |  0 hr 50 min\n",
      "0.00100  0.360* 5.78  | 1.129  0.305  0.207  0.428  | 1.007  8.019  0.000  |  0 hr 53 min\n",
      "0.00100  0.380* 6.10  | 1.000  0.308  0.147  0.362  | 1.032  8.020  0.000  |  0 hr 56 min\n",
      "0.00100  0.400* 6.42  | 0.958  0.316  0.115  0.331  | 0.979  8.087  0.000  |  0 hr 59 min\n",
      "0.00100  0.420* 6.74  | 0.963  0.317  0.143  0.329  | 1.042  8.020  0.000  |  1 hr 02 min\n",
      "0.00100  0.440* 7.06  | 0.980  0.321  0.202  0.399  | 1.001  8.012  0.000  |  1 hr 05 min\n",
      "0.00100  0.460* 7.38  | 0.924  0.331  0.205  0.376  | 1.009  8.025  0.000  |  1 hr 07 min\n",
      "0.00100  0.480* 7.70  | 0.919  0.335  0.178  0.397  | 0.946  8.013  0.000  |  1 hr 10 min\n",
      "0.00100  0.500* 8.03  | 0.957  0.337  0.197  0.378  | 0.990  8.008  0.000  |  1 hr 13 min\n",
      "0.00100  0.520* 8.35  | 0.972  0.326  0.220  0.389  | 0.961  8.009  0.000  |  1 hr 16 min\n",
      "0.00100  0.540* 8.67  | 1.005  0.326  0.214  0.420  | 1.016  8.025  0.000  |  1 hr 19 min\n",
      "0.00100  0.560* 8.99  | 0.955  0.344  0.140  0.404  | 0.945  8.013  0.000  |  1 hr 22 min\n",
      "0.00100  0.580* 9.31  | 0.921  0.335  0.160  0.407  | 0.972  8.020  0.000  |  1 hr 25 min\n",
      "0.00100  0.600* 9.63  | 0.901  0.338  0.177  0.386  | 0.977  8.018  0.000  |  1 hr 28 min\n",
      "0.00100  0.620* 9.95  | 0.989  0.334  0.194  0.388  | 0.941  8.017  0.000  |  1 hr 31 min\n",
      "0.00100  0.640* 10.27  | 0.922  0.336  0.170  0.389  | 0.995  8.016  0.000  |  1 hr 34 min\n",
      "0.00100  0.660* 10.59  | 0.995  0.336  0.265  0.468  | 0.964  8.016  0.000  |  1 hr 37 min\n",
      "0.00100  0.680* 10.91  | 0.925  0.336  0.217  0.412  | 0.946  8.020  0.000  |  1 hr 40 min\n",
      "0.00100  0.700* 11.24  | 0.914  0.341  0.167  0.345  | 0.961  8.009  0.000  |  1 hr 43 min\n",
      "0.00100  0.720  11.56  | 0.920  0.347  0.220  0.390  | 0.915  8.010  0.000  |  1 hr 46 min\n",
      "0.00100  0.740  11.88  | 0.912  0.351  0.184  0.398  | 0.942  8.009  0.000  |  1 hr 49 min\n",
      "0.00100  0.748  12.00  | 0.912  0.351  0.184  0.398  | 1.064  8.003  0.000  |  1 hr 50 min\n"
     ]
    },
    {
     "data": {
      "text/html": [
       "<br/>Waiting for W&B process to finish, PID 92<br/>Program ended successfully."
      ],
      "text/plain": [
       "<IPython.core.display.HTML object>"
      ]
     },
     "metadata": {},
     "output_type": "display_data"
    },
    {
     "data": {
      "application/vnd.jupyter.widget-view+json": {
       "model_id": "a1443f0cd6d34797b7df1eac832b0f1b",
       "version_major": 2,
       "version_minor": 0
      },
      "text/plain": [
       "VBox(children=(Label(value=' 1488.22MB of 1488.22MB uploaded (0.00MB deduped)\\r'), FloatProgress(value=1.0, ma…"
      ]
     },
     "metadata": {},
     "output_type": "display_data"
    },
    {
     "data": {
      "text/html": [
       "Find user logs for this run at: <code>/kaggle/working/wandb/run-20210726_140010-10kt51eb/logs/debug.log</code>"
      ],
      "text/plain": [
       "<IPython.core.display.HTML object>"
      ]
     },
     "metadata": {},
     "output_type": "display_data"
    },
    {
     "data": {
      "text/html": [
       "Find internal logs for this run at: <code>/kaggle/working/wandb/run-20210726_140010-10kt51eb/logs/debug-internal.log</code>"
      ],
      "text/plain": [
       "<IPython.core.display.HTML object>"
      ]
     },
     "metadata": {},
     "output_type": "display_data"
    },
    {
     "data": {
      "text/html": [
       "<h3>Run summary:</h3><br/><style>\n",
       "    table.wandb td:nth-child(1) { padding: 0 10px; text-align: right }\n",
       "    </style><table class=\"wandb\">\n",
       "<tr><td>fold</td><td>0</td></tr><tr><td>epoch</td><td>11.87801</td></tr><tr><td>rate</td><td>0.001</td></tr><tr><td>iterate</td><td>0.74</td></tr><tr><td>valid_loss</td><td>0.91162</td></tr><tr><td>valid_map</td><td>0.35077</td></tr><tr><td>valid_topk_0</td><td>0.18357</td></tr><tr><td>valid_topk_1</td><td>0.39775</td></tr><tr><td>train_ce_loss</td><td>1.02943</td></tr><tr><td>train_bce_loss</td><td>8.0046</td></tr><tr><td>_runtime</td><td>6626</td></tr><tr><td>_timestamp</td><td>1627314636</td></tr><tr><td>_step</td><td>7400</td></tr></table>"
      ],
      "text/plain": [
       "<IPython.core.display.HTML object>"
      ]
     },
     "metadata": {},
     "output_type": "display_data"
    },
    {
     "data": {
      "text/html": [
       "<h3>Run history:</h3><br/><style>\n",
       "    table.wandb td:nth-child(1) { padding: 0 10px; text-align: right }\n",
       "    </style><table class=\"wandb\">\n",
       "<tr><td>fold</td><td>▁▁▁▁▁▁▁▁▁▁▁▁▁▁▁▁▁▁▁▁▁▁▁▁▁▁▁▁▁▁▁▁▁▁▁▁▁▁</td></tr><tr><td>epoch</td><td>▁▁▁▂▂▂▂▂▃▃▃▃▃▃▄▄▄▄▄▅▅▅▅▅▆▆▆▆▆▆▇▇▇▇▇███</td></tr><tr><td>rate</td><td>▁█████████████████████████████████████</td></tr><tr><td>iterate</td><td>▁▁▁▂▂▂▂▂▃▃▃▃▃▃▄▄▄▄▄▅▅▅▅▅▆▆▆▆▆▆▇▇▇▇▇███</td></tr><tr><td>valid_loss</td><td>▆█▂▂▂▃▂▂▂▂▁▂▃▂▂▂▂▂▃▂▂▂▂▁▁▁▂▂▁▁▁▂▁▂▁▁▁▁</td></tr><tr><td>valid_map</td><td>▁▅▆▆▆▆▇▆▇▇▇▇▅▆▇▆▇▇▆▆▇▇▇▇▇▇▇▇█▇█▇▇▇▇███</td></tr><tr><td>valid_topk_0</td><td>█▁▂▁▅▅▅▄▃▅▅▃▂▃▃▂▅▄▅▃▂▃▅▅▄▅▅▅▃▃▄▅▄▇▅▄▅▄</td></tr><tr><td>valid_topk_1</td><td>█▃▃▁▄▃▃▅▂▄▂▃▂▃▃▁▄▂▄▂▂▁▃▃▃▃▃▄▃▃▃▃▃▅▃▂▃▃</td></tr><tr><td>train_ce_loss</td><td>▁▅▇▄▇▄▄▆▆▇▄▅▆▅▆▇▅▄█▅▆▆▄▅▅▅▅▄▇▅▆▄▅▃▄▅▆▆</td></tr><tr><td>train_bce_loss</td><td>▁█████████████████████████████████████</td></tr><tr><td>_runtime</td><td>▁▁▁▂▂▂▂▂▃▃▃▃▃▃▄▄▄▄▄▅▅▅▅▅▆▆▆▆▆▇▇▇▇▇████</td></tr><tr><td>_timestamp</td><td>▁▁▁▂▂▂▂▂▃▃▃▃▃▃▄▄▄▄▄▅▅▅▅▅▆▆▆▆▆▇▇▇▇▇████</td></tr><tr><td>_step</td><td>▁▁▁▂▂▂▂▂▃▃▃▃▃▃▄▄▄▄▄▅▅▅▅▅▆▆▆▆▆▆▇▇▇▇▇███</td></tr></table><br/>"
      ],
      "text/plain": [
       "<IPython.core.display.HTML object>"
      ]
     },
     "metadata": {},
     "output_type": "display_data"
    },
    {
     "data": {
      "text/html": [
       "Synced 5 W&B file(s), 0 media file(s), 0 artifact file(s) and 35 other file(s)"
      ],
      "text/plain": [
       "<IPython.core.display.HTML object>"
      ]
     },
     "metadata": {},
     "output_type": "display_data"
    },
    {
     "data": {
      "text/html": [
       "\n",
       "                    <br/>Synced <strong style=\"color:#cdcd00\">gallant-water-1</strong>: <a href=\"https://wandb.ai/haplophryne/kagglesegg/runs/10kt51eb\" target=\"_blank\">https://wandb.ai/haplophryne/kagglesegg/runs/10kt51eb</a><br/>\n",
       "                "
      ],
      "text/plain": [
       "<IPython.core.display.HTML object>"
      ]
     },
     "metadata": {},
     "output_type": "display_data"
    },
    {
     "data": {
      "text/html": [
       "\n",
       "                Tracking run with wandb version 0.11.0<br/>\n",
       "                Syncing run <strong style=\"color:#cdcd00\">swept-butterfly-2</strong> to <a href=\"https://wandb.ai\" target=\"_blank\">Weights & Biases</a> <a href=\"https://docs.wandb.com/integrations/jupyter.html\" target=\"_blank\">(Documentation)</a>.<br/>\n",
       "                Project page: <a href=\"https://wandb.ai/haplophryne/kagglesegg\" target=\"_blank\">https://wandb.ai/haplophryne/kagglesegg</a><br/>\n",
       "                Run page: <a href=\"https://wandb.ai/haplophryne/kagglesegg/runs/33m6lr2k\" target=\"_blank\">https://wandb.ai/haplophryne/kagglesegg/runs/33m6lr2k</a><br/>\n",
       "                Run data is saved locally in <code>/kaggle/working/wandb/run-20210726_155039-33m6lr2k</code><br/><br/>\n",
       "            "
      ],
      "text/plain": [
       "<IPython.core.display.HTML object>"
      ]
     },
     "metadata": {},
     "output_type": "display_data"
    },
    {
     "name": "stdout",
     "output_type": "stream",
     "text": [
      "\n",
      "--- [START 2021-07-26_14-00-10] ----------------------------------------------------------------\n",
      "\n",
      "\tout_dir  = ./\n",
      "\n",
      "train_dataset : \n",
      "\tlen = 4984\n",
      "\tdf  = (4984, 12)\n",
      "\tlabel distribution\n",
      "\t\t 0     Negative for Pneumonia:  1369 (0.2747)\n",
      "\t\t 1         Typical Appearance:  2366 (0.4747)\n",
      "\t\t 2   Indeterminate Appearance:   866 (0.1738)\n",
      "\t\t 3        Atypical Appearance:   383 (0.0768)\n",
      "\n",
      "valid_dataset : \n",
      "\tlen = 1243\n",
      "\tdf  = (1243, 12)\n",
      "\tlabel distribution\n",
      "\t\t 0     Negative for Pneumonia:   340 (0.2735)\n",
      "\t\t 1         Typical Appearance:   592 (0.4763)\n",
      "\t\t 2   Indeterminate Appearance:   216 (0.1738)\n",
      "\t\t 3        Atypical Appearance:    95 (0.0764)\n",
      "\n",
      "\n",
      "** net setting **\n",
      "net=<class '__main__.AmpNet'>\n",
      "\tinitial_checkpoint = None\n",
      "\n",
      "optimizer\n",
      "  MADGRAD (\n",
      "Parameter Group 0\n",
      "    eps: 1e-06\n",
      "    lr: 0.001\n",
      "    momentum: 0.9\n",
      "    weight_decay: 0\n",
      ")\n",
      "\n",
      "** start training here! **\n",
      "   fold = 1\n",
      "   is_mixed_precision = True \n",
      "   batch_size = 8\n",
      "                      |----- VALID ---|---- TRAIN/BATCH --------------\n",
      "rate     iter   epoch | loss    map  topk_0 topk_1  | loss0  loss1 loss2 | time          \n",
      "----------------------------------------------------------------------\n",
      "0.00000  0.000* 0.00  | 1.397  0.172  0.287  0.560  | 0.000  0.000  0.000  |  0 hr 00 min\n",
      "0.00100  0.020* 0.32  | 1.032  0.290  0.121  0.389  | 1.133  8.032  0.000  |  0 hr 03 min\n",
      "0.00100  0.040* 0.64  | 1.047  0.291  0.077  0.290  | 1.103  8.023  0.000  |  0 hr 06 min\n",
      "0.00100  0.060* 0.96  | 1.014  0.301  0.147  0.326  | 1.084  8.023  0.000  |  0 hr 09 min\n",
      "0.00100  0.080* 1.28  | 0.993  0.310  0.158  0.410  | 1.063  8.023  0.000  |  0 hr 12 min\n",
      "0.00100  0.100* 1.61  | 0.978  0.315  0.163  0.308  | 1.020  8.029  0.000  |  0 hr 15 min\n",
      "0.00100  0.120* 1.93  | 1.214  0.298  0.245  0.447  | 1.117  8.020  0.000  |  0 hr 17 min\n",
      "0.00100  0.140* 2.25  | 0.937  0.326  0.159  0.368  | 1.079  8.014  0.000  |  0 hr 20 min\n",
      "0.00100  0.160* 2.57  | 0.998  0.323  0.187  0.418  | 1.027  8.020  0.000  |  0 hr 23 min\n",
      "0.00100  0.180* 2.89  | 0.935  0.332  0.182  0.347  | 0.986  8.054  0.000  |  0 hr 26 min\n",
      "0.00100  0.200* 3.21  | 0.930  0.336  0.163  0.382  | 1.035  8.024  0.000  |  0 hr 29 min\n",
      "0.00100  0.220* 3.53  | 0.941  0.327  0.191  0.411  | 0.999  8.013  0.000  |  0 hr 32 min\n",
      "0.00100  0.240* 3.85  | 1.099  0.315  0.197  0.451  | 0.970  8.014  0.000  |  0 hr 35 min\n",
      "0.00100  0.260* 4.17  | 0.987  0.336  0.138  0.322  | 0.936  8.019  0.000  |  0 hr 38 min\n",
      "0.00100  0.280* 4.49  | 0.951  0.337  0.147  0.399  | 0.994  8.017  0.000  |  0 hr 41 min\n",
      "0.00100  0.300* 4.82  | 1.044  0.329  0.134  0.455  | 0.957  8.007  0.000  |  0 hr 44 min\n",
      "0.00100  0.320* 5.14  | 0.995  0.341  0.226  0.387  | 0.874  8.021  0.000  |  0 hr 47 min\n",
      "0.00100  0.340* 5.46  | 0.972  0.338  0.166  0.339  | 0.995  8.012  0.000  |  0 hr 50 min\n",
      "0.00100  0.360* 5.78  | 0.920  0.340  0.150  0.397  | 0.982  8.020  0.000  |  0 hr 53 min\n",
      "0.00100  0.380* 6.10  | 0.933  0.332  0.205  0.394  | 0.953  8.019  0.000  |  0 hr 56 min\n",
      "0.00100  0.400* 6.42  | 0.953  0.342  0.223  0.422  | 0.951  8.011  0.000  |  0 hr 59 min\n",
      "0.00100  0.420* 6.74  | 0.953  0.337  0.185  0.420  | 0.943  8.018  0.000  |  1 hr 02 min\n",
      "0.00100  0.440* 7.06  | 0.939  0.343  0.174  0.409  | 0.968  8.026  0.000  |  1 hr 05 min\n",
      "0.00100  0.460* 7.38  | 0.942  0.332  0.151  0.356  | 0.944  8.013  0.000  |  1 hr 08 min\n",
      "0.00100  0.480* 7.70  | 0.938  0.341  0.174  0.393  | 0.969  8.023  0.000  |  1 hr 11 min\n",
      "0.00100  0.500* 8.03  | 0.959  0.353  0.174  0.398  | 0.944  8.017  0.000  |  1 hr 14 min\n",
      "0.00100  0.520* 8.35  | 0.921  0.353  0.216  0.423  | 0.918  8.019  0.000  |  1 hr 17 min\n",
      "0.00100  0.540* 8.67  | 0.900  0.350  0.132  0.372  | 0.956  8.019  0.000  |  1 hr 20 min\n",
      "0.00100  0.560* 8.99  | 0.897  0.361  0.165  0.411  | 0.978  8.016  0.000  |  1 hr 23 min\n",
      "0.00100  0.580* 9.31  | 0.940  0.339  0.158  0.444  | 0.956  8.010  0.000  |  1 hr 26 min\n",
      "0.00100  0.600* 9.63  | 0.904  0.354  0.163  0.389  | 0.972  8.018  0.000  |  1 hr 29 min\n",
      "0.00100  0.620* 9.95  | 0.952  0.352  0.200  0.434  | 0.899  8.013  0.000  |  1 hr 31 min\n",
      "0.00100  0.640* 10.27  | 0.907  0.365  0.195  0.431  | 0.912  8.015  0.000  |  1 hr 34 min\n",
      "0.00100  0.660* 10.59  | 0.902  0.357  0.178  0.398  | 0.890  8.011  0.000  |  1 hr 37 min\n",
      "0.00100  0.680* 10.91  | 1.016  0.349  0.167  0.438  | 0.920  8.023  0.000  |  1 hr 40 min\n",
      "0.00100  0.700* 11.24  | 0.898  0.363  0.205  0.448  | 0.859  8.013  0.000  |  1 hr 43 min\n",
      "0.00100  0.720  11.56  | 0.901  0.354  0.142  0.368  | 0.949  8.029  0.000  |  1 hr 46 min\n",
      "0.00100  0.740  11.88  | 0.896  0.367  0.171  0.393  | 0.911  8.016  0.000  |  1 hr 49 min\n",
      "0.00100  0.748  12.00  | 0.896  0.367  0.171  0.393  | 0.779  8.001  0.000  |  1 hr 50 min\n"
     ]
    },
    {
     "data": {
      "text/html": [
       "<br/>Waiting for W&B process to finish, PID 5499<br/>Program ended successfully."
      ],
      "text/plain": [
       "<IPython.core.display.HTML object>"
      ]
     },
     "metadata": {},
     "output_type": "display_data"
    },
    {
     "data": {
      "application/vnd.jupyter.widget-view+json": {
       "model_id": "ae76c41d38cb49e1aefea6300aa4902c",
       "version_major": 2,
       "version_minor": 0
      },
      "text/plain": [
       "VBox(children=(Label(value=' 1488.22MB of 1488.22MB uploaded (0.00MB deduped)\\r'), FloatProgress(value=1.0, ma…"
      ]
     },
     "metadata": {},
     "output_type": "display_data"
    },
    {
     "data": {
      "text/html": [
       "Find user logs for this run at: <code>/kaggle/working/wandb/run-20210726_155039-33m6lr2k/logs/debug.log</code>"
      ],
      "text/plain": [
       "<IPython.core.display.HTML object>"
      ]
     },
     "metadata": {},
     "output_type": "display_data"
    },
    {
     "data": {
      "text/html": [
       "Find internal logs for this run at: <code>/kaggle/working/wandb/run-20210726_155039-33m6lr2k/logs/debug-internal.log</code>"
      ],
      "text/plain": [
       "<IPython.core.display.HTML object>"
      ]
     },
     "metadata": {},
     "output_type": "display_data"
    },
    {
     "data": {
      "text/html": [
       "<h3>Run summary:</h3><br/><style>\n",
       "    table.wandb td:nth-child(1) { padding: 0 10px; text-align: right }\n",
       "    </style><table class=\"wandb\">\n",
       "<tr><td>fold</td><td>1</td></tr><tr><td>epoch</td><td>11.87801</td></tr><tr><td>rate</td><td>0.001</td></tr><tr><td>iterate</td><td>0.74</td></tr><tr><td>valid_loss</td><td>0.89551</td></tr><tr><td>valid_map</td><td>0.36721</td></tr><tr><td>valid_topk_0</td><td>0.17136</td></tr><tr><td>valid_topk_1</td><td>0.3934</td></tr><tr><td>train_ce_loss</td><td>0.6592</td></tr><tr><td>train_bce_loss</td><td>8.01887</td></tr><tr><td>_runtime</td><td>6653</td></tr><tr><td>_timestamp</td><td>1627321292</td></tr><tr><td>_step</td><td>7400</td></tr></table>"
      ],
      "text/plain": [
       "<IPython.core.display.HTML object>"
      ]
     },
     "metadata": {},
     "output_type": "display_data"
    },
    {
     "data": {
      "text/html": [
       "<h3>Run history:</h3><br/><style>\n",
       "    table.wandb td:nth-child(1) { padding: 0 10px; text-align: right }\n",
       "    </style><table class=\"wandb\">\n",
       "<tr><td>fold</td><td>▁▁▁▁▁▁▁▁▁▁▁▁▁▁▁▁▁▁▁▁▁▁▁▁▁▁▁▁▁▁▁▁▁▁▁▁▁▁</td></tr><tr><td>epoch</td><td>▁▁▁▂▂▂▂▂▃▃▃▃▃▃▄▄▄▄▄▅▅▅▅▅▆▆▆▆▆▆▇▇▇▇▇███</td></tr><tr><td>rate</td><td>▁█████████████████████████████████████</td></tr><tr><td>iterate</td><td>▁▁▁▂▂▂▂▂▃▃▃▃▃▃▄▄▄▄▄▅▅▅▅▅▆▆▆▆▆▆▇▇▇▇▇███</td></tr><tr><td>valid_loss</td><td>█▃▃▃▂▂▅▂▂▂▁▂▄▂▂▃▂▂▁▂▂▂▂▂▂▂▁▁▁▂▁▂▁▁▃▁▁▁</td></tr><tr><td>valid_map</td><td>▁▅▅▆▆▆▆▇▆▇▇▇▆▇▇▇▇▇▇▇▇▇▇▇▇▇█▇█▇█▇██▇███</td></tr><tr><td>valid_topk_0</td><td>█▂▁▃▄▄▇▄▅▄▄▅▅▃▃▃▆▄▃▅▆▅▄▃▄▄▆▃▄▄▄▅▅▄▄▅▃▄</td></tr><tr><td>valid_topk_1</td><td>█▄▁▂▄▁▅▃▄▂▃▄▅▂▄▅▄▂▄▄▄▄▄▃▄▄▄▃▄▅▄▅▅▄▅▅▃▄</td></tr><tr><td>train_ce_loss</td><td>▁▇▆▆▆▇█▅▇▇▆▅▆▄█▆▆█▆▅▅▇█▅▇▅▆█▆▇▅▆▅▅█▅▅▄</td></tr><tr><td>train_bce_loss</td><td>▁█████████████████████████████████████</td></tr><tr><td>_runtime</td><td>▁▁▁▂▂▂▂▂▃▃▃▃▃▃▄▄▄▄▄▅▅▅▅▅▆▆▆▆▆▇▇▇▇▇████</td></tr><tr><td>_timestamp</td><td>▁▁▁▂▂▂▂▂▃▃▃▃▃▃▄▄▄▄▄▅▅▅▅▅▆▆▆▆▆▇▇▇▇▇████</td></tr><tr><td>_step</td><td>▁▁▁▂▂▂▂▂▃▃▃▃▃▃▄▄▄▄▄▅▅▅▅▅▆▆▆▆▆▆▇▇▇▇▇███</td></tr></table><br/>"
      ],
      "text/plain": [
       "<IPython.core.display.HTML object>"
      ]
     },
     "metadata": {},
     "output_type": "display_data"
    },
    {
     "data": {
      "text/html": [
       "Synced 5 W&B file(s), 0 media file(s), 0 artifact file(s) and 35 other file(s)"
      ],
      "text/plain": [
       "<IPython.core.display.HTML object>"
      ]
     },
     "metadata": {},
     "output_type": "display_data"
    },
    {
     "data": {
      "text/html": [
       "\n",
       "                    <br/>Synced <strong style=\"color:#cdcd00\">swept-butterfly-2</strong>: <a href=\"https://wandb.ai/haplophryne/kagglesegg/runs/33m6lr2k\" target=\"_blank\">https://wandb.ai/haplophryne/kagglesegg/runs/33m6lr2k</a><br/>\n",
       "                "
      ],
      "text/plain": [
       "<IPython.core.display.HTML object>"
      ]
     },
     "metadata": {},
     "output_type": "display_data"
    },
    {
     "data": {
      "text/html": [
       "\n",
       "                Tracking run with wandb version 0.11.0<br/>\n",
       "                Syncing run <strong style=\"color:#cdcd00\">radiant-donkey-3</strong> to <a href=\"https://wandb.ai\" target=\"_blank\">Weights & Biases</a> <a href=\"https://docs.wandb.com/integrations/jupyter.html\" target=\"_blank\">(Documentation)</a>.<br/>\n",
       "                Project page: <a href=\"https://wandb.ai/haplophryne/kagglesegg\" target=\"_blank\">https://wandb.ai/haplophryne/kagglesegg</a><br/>\n",
       "                Run page: <a href=\"https://wandb.ai/haplophryne/kagglesegg/runs/2mqdk9qi\" target=\"_blank\">https://wandb.ai/haplophryne/kagglesegg/runs/2mqdk9qi</a><br/>\n",
       "                Run data is saved locally in <code>/kaggle/working/wandb/run-20210726_174135-2mqdk9qi</code><br/><br/>\n",
       "            "
      ],
      "text/plain": [
       "<IPython.core.display.HTML object>"
      ]
     },
     "metadata": {},
     "output_type": "display_data"
    },
    {
     "name": "stdout",
     "output_type": "stream",
     "text": [
      "\n",
      "--- [START 2021-07-26_14-00-10] ----------------------------------------------------------------\n",
      "\n",
      "\tout_dir  = ./\n",
      "\n",
      "train_dataset : \n",
      "\tlen = 4973\n",
      "\tdf  = (4973, 12)\n",
      "\tlabel distribution\n",
      "\t\t 0     Negative for Pneumonia:  1365 (0.2745)\n",
      "\t\t 1         Typical Appearance:  2366 (0.4758)\n",
      "\t\t 2   Indeterminate Appearance:   860 (0.1729)\n",
      "\t\t 3        Atypical Appearance:   382 (0.0768)\n",
      "\n",
      "valid_dataset : \n",
      "\tlen = 1254\n",
      "\tdf  = (1254, 12)\n",
      "\tlabel distribution\n",
      "\t\t 0     Negative for Pneumonia:   344 (0.2743)\n",
      "\t\t 1         Typical Appearance:   592 (0.4721)\n",
      "\t\t 2   Indeterminate Appearance:   222 (0.1770)\n",
      "\t\t 3        Atypical Appearance:    96 (0.0766)\n",
      "\n",
      "\n",
      "** net setting **\n",
      "net=<class '__main__.AmpNet'>\n",
      "\tinitial_checkpoint = None\n",
      "\n",
      "optimizer\n",
      "  MADGRAD (\n",
      "Parameter Group 0\n",
      "    eps: 1e-06\n",
      "    lr: 0.001\n",
      "    momentum: 0.9\n",
      "    weight_decay: 0\n",
      ")\n",
      "\n",
      "** start training here! **\n",
      "   fold = 3\n",
      "   is_mixed_precision = True \n",
      "   batch_size = 8\n",
      "                      |----- VALID ---|---- TRAIN/BATCH --------------\n",
      "rate     iter   epoch | loss    map  topk_0 topk_1  | loss0  loss1 loss2 | time          \n",
      "----------------------------------------------------------------------\n",
      "0.00000  0.000* 0.00  | 1.348  0.172  0.179  0.348  | 0.000  0.000  0.000  |  0 hr 00 min\n",
      "0.00100  0.020* 0.32  | 1.076  0.281  0.157  0.313  | 1.186  8.032  0.000  |  0 hr 03 min\n",
      "0.00100  0.040* 0.64  | 1.046  0.304  0.117  0.356  | 1.155  8.039  0.000  |  0 hr 06 min\n",
      "0.00100  0.060* 0.97  | 1.067  0.292  0.120  0.276  | 1.090  8.021  0.000  |  0 hr 09 min\n",
      "0.00100  0.080* 1.29  | 0.972  0.308  0.224  0.415  | 1.079  8.024  0.000  |  0 hr 12 min\n",
      "0.00100  0.100* 1.61  | 1.060  0.283  0.130  0.360  | 0.992  8.059  0.000  |  0 hr 15 min\n",
      "0.00100  0.120* 1.93  | 1.091  0.292  0.142  0.376  | 1.022  8.100  0.000  |  0 hr 18 min\n",
      "0.00100  0.140* 2.25  | 1.071  0.275  0.119  0.287  | 1.100  8.393  0.000  |  0 hr 21 min\n",
      "0.00100  0.160* 2.58  | 1.146  0.241  0.106  0.300  | 1.054  8.051  0.000  |  0 hr 24 min\n",
      "0.00100  0.180* 2.90  | 1.004  0.306  0.136  0.349  | 1.124  8.028  0.000  |  0 hr 26 min\n",
      "0.00100  0.200* 3.22  | 0.960  0.317  0.149  0.311  | 1.008  8.036  0.000  |  0 hr 29 min\n",
      "0.00100  0.220* 3.54  | 0.955  0.319  0.141  0.376  | 1.056  8.049  0.000  |  0 hr 32 min\n",
      "0.00100  0.240* 3.86  | 0.955  0.324  0.163  0.392  | 1.062  8.024  0.000  |  0 hr 35 min\n",
      "0.00100  0.260* 4.19  | 0.959  0.321  0.213  0.372  | 1.004  8.065  0.000  |  0 hr 38 min\n",
      "0.00100  0.280* 4.51  | 0.971  0.310  0.176  0.396  | 1.062  8.020  0.000  |  0 hr 41 min\n",
      "0.00100  0.300* 4.83  | 0.968  0.320  0.152  0.404  | 1.022  8.026  0.000  |  0 hr 44 min\n",
      "0.00100  0.320* 5.15  | 0.946  0.328  0.187  0.400  | 1.024  8.025  0.000  |  0 hr 47 min\n",
      "0.00100  0.340* 5.48  | 0.958  0.312  0.089  0.291  | 1.006  8.018  0.000  |  0 hr 50 min\n",
      "0.00100  0.360* 5.80  | 0.953  0.334  0.189  0.410  | 1.006  8.028  0.000  |  0 hr 53 min\n",
      "0.00100  0.380* 6.12  | 0.991  0.308  0.180  0.368  | 1.030  8.012  0.000  |  0 hr 56 min\n",
      "0.00100  0.400* 6.44  | 0.986  0.325  0.153  0.411  | 0.966  8.024  0.000  |  0 hr 59 min\n",
      "0.00100  0.420* 6.76  | 1.022  0.323  0.199  0.413  | 0.941  8.012  0.000  |  1 hr 02 min\n",
      "0.00100  0.440* 7.09  | 0.936  0.330  0.163  0.321  | 1.017  8.029  0.000  |  1 hr 05 min\n",
      "0.00100  0.460* 7.41  | 0.954  0.320  0.202  0.379  | 0.968  8.020  0.000  |  1 hr 08 min\n",
      "0.00100  0.480* 7.73  | 1.037  0.318  0.199  0.320  | 0.976  8.010  0.000  |  1 hr 11 min\n",
      "0.00100  0.500* 8.05  | 0.971  0.323  0.169  0.380  | 0.946  8.019  0.000  |  1 hr 14 min\n",
      "0.00100  0.520* 8.37  | 1.016  0.324  0.146  0.397  | 0.946  8.012  0.000  |  1 hr 17 min\n",
      "0.00100  0.540* 8.70  | 0.917  0.344  0.193  0.404  | 0.990  8.026  0.000  |  1 hr 20 min\n",
      "0.00100  0.560* 9.02  | 0.943  0.338  0.246  0.428  | 0.971  8.016  0.000  |  1 hr 23 min\n",
      "0.00100  0.580* 9.34  | 0.926  0.331  0.153  0.388  | 0.928  8.016  0.000  |  1 hr 26 min\n",
      "0.00100  0.600* 9.66  | 0.918  0.334  0.171  0.375  | 0.995  8.013  0.000  |  1 hr 29 min\n",
      "0.00100  0.620* 9.98  | 0.945  0.349  0.161  0.366  | 0.928  8.022  0.000  |  1 hr 32 min\n",
      "0.00100  0.640* 10.31  | 0.923  0.346  0.198  0.408  | 0.898  8.014  0.000  |  1 hr 35 min\n",
      "0.00100  0.660* 10.63  | 0.922  0.338  0.153  0.416  | 0.912  8.010  0.000  |  1 hr 38 min\n",
      "0.00100  0.680* 10.95  | 1.014  0.332  0.183  0.423  | 0.945  8.017  0.000  |  1 hr 40 min\n",
      "0.00100  0.700* 11.27  | 0.955  0.335  0.203  0.428  | 0.924  8.015  0.000  |  1 hr 43 min\n",
      "0.00100  0.720  11.59  | 0.980  0.340  0.206  0.417  | 0.942  8.016  0.000  |  1 hr 46 min\n",
      "0.00100  0.740  11.92  | 0.972  0.340  0.156  0.396  | 0.946  8.016  0.000  |  1 hr 49 min\n",
      "0.00100  0.745  12.00  | 0.972  0.340  0.156  0.396  | 0.758  8.000  0.000  |  1 hr 50 min\n"
     ]
    },
    {
     "data": {
      "text/html": [
       "<br/>Waiting for W&B process to finish, PID 10797<br/>Program ended successfully."
      ],
      "text/plain": [
       "<IPython.core.display.HTML object>"
      ]
     },
     "metadata": {},
     "output_type": "display_data"
    },
    {
     "data": {
      "application/vnd.jupyter.widget-view+json": {
       "model_id": "1a0627619900417e8d21437404f31653",
       "version_major": 2,
       "version_minor": 0
      },
      "text/plain": [
       "VBox(children=(Label(value=' 1488.22MB of 1488.22MB uploaded (0.00MB deduped)\\r'), FloatProgress(value=1.0, ma…"
      ]
     },
     "metadata": {},
     "output_type": "display_data"
    },
    {
     "data": {
      "text/html": [
       "Find user logs for this run at: <code>/kaggle/working/wandb/run-20210726_174135-2mqdk9qi/logs/debug.log</code>"
      ],
      "text/plain": [
       "<IPython.core.display.HTML object>"
      ]
     },
     "metadata": {},
     "output_type": "display_data"
    },
    {
     "data": {
      "text/html": [
       "Find internal logs for this run at: <code>/kaggle/working/wandb/run-20210726_174135-2mqdk9qi/logs/debug-internal.log</code>"
      ],
      "text/plain": [
       "<IPython.core.display.HTML object>"
      ]
     },
     "metadata": {},
     "output_type": "display_data"
    },
    {
     "data": {
      "text/html": [
       "<h3>Run summary:</h3><br/><style>\n",
       "    table.wandb td:nth-child(1) { padding: 0 10px; text-align: right }\n",
       "    </style><table class=\"wandb\">\n",
       "<tr><td>fold</td><td>3</td></tr><tr><td>epoch</td><td>11.91626</td></tr><tr><td>rate</td><td>0.001</td></tr><tr><td>iterate</td><td>0.74</td></tr><tr><td>valid_loss</td><td>0.97168</td></tr><tr><td>valid_map</td><td>0.34034</td></tr><tr><td>valid_topk_0</td><td>0.1555</td></tr><tr><td>valid_topk_1</td><td>0.39633</td></tr><tr><td>train_ce_loss</td><td>0.90319</td></tr><tr><td>train_bce_loss</td><td>8.00707</td></tr><tr><td>_runtime</td><td>6641</td></tr><tr><td>_timestamp</td><td>1627327936</td></tr><tr><td>_step</td><td>7400</td></tr></table>"
      ],
      "text/plain": [
       "<IPython.core.display.HTML object>"
      ]
     },
     "metadata": {},
     "output_type": "display_data"
    },
    {
     "data": {
      "text/html": [
       "<h3>Run history:</h3><br/><style>\n",
       "    table.wandb td:nth-child(1) { padding: 0 10px; text-align: right }\n",
       "    </style><table class=\"wandb\">\n",
       "<tr><td>fold</td><td>▁▁▁▁▁▁▁▁▁▁▁▁▁▁▁▁▁▁▁▁▁▁▁▁▁▁▁▁▁▁▁▁▁▁▁▁▁▁</td></tr><tr><td>epoch</td><td>▁▁▁▂▂▂▂▂▃▃▃▃▃▃▄▄▄▄▄▅▅▅▅▅▆▆▆▆▆▆▇▇▇▇▇███</td></tr><tr><td>rate</td><td>▁█████████████████████████████████████</td></tr><tr><td>iterate</td><td>▁▁▁▂▂▂▂▂▃▃▃▃▃▃▄▄▄▄▄▅▅▅▅▅▆▆▆▆▆▆▇▇▇▇▇███</td></tr><tr><td>valid_loss</td><td>█▄▃▃▂▃▄▄▅▂▂▂▂▂▂▂▁▂▂▂▂▃▁▂▃▂▃▁▁▁▁▁▁▁▃▂▂▂</td></tr><tr><td>valid_map</td><td>▁▅▆▆▆▅▆▅▄▆▇▇▇▇▆▇▇▇▇▆▇▇▇▇▇▇▇██▇▇███▇▇██</td></tr><tr><td>valid_topk_0</td><td>▅▄▂▂▇▃▃▂▂▃▄▃▄▇▅▄▅▁▅▅▄▆▄▆▆▅▄▆█▄▅▄▆▄▅▆▆▄</td></tr><tr><td>valid_topk_1</td><td>▄▃▅▁▇▅▆▂▂▄▃▆▆▅▆▇▇▂▇▅▇▇▃▆▃▆▇▇█▆▆▅▇▇██▇▇</td></tr><tr><td>train_ce_loss</td><td>▁▅▅▅▇▄▃▆▄▅▃▄▄▅▆▅▆▅▅▄▄█▄▃▆▅▆▆▅▅▅▅▄▆▄▄▃▄</td></tr><tr><td>train_bce_loss</td><td>▁█████████████████████████████████████</td></tr><tr><td>_runtime</td><td>▁▁▁▂▂▂▂▂▃▃▃▃▃▄▄▄▄▄▄▅▅▅▅▅▆▆▆▆▆▇▇▇▇▇████</td></tr><tr><td>_timestamp</td><td>▁▁▁▂▂▂▂▂▃▃▃▃▃▄▄▄▄▄▄▅▅▅▅▅▆▆▆▆▆▇▇▇▇▇████</td></tr><tr><td>_step</td><td>▁▁▁▂▂▂▂▂▃▃▃▃▃▃▄▄▄▄▄▅▅▅▅▅▆▆▆▆▆▆▇▇▇▇▇███</td></tr></table><br/>"
      ],
      "text/plain": [
       "<IPython.core.display.HTML object>"
      ]
     },
     "metadata": {},
     "output_type": "display_data"
    },
    {
     "data": {
      "text/html": [
       "Synced 5 W&B file(s), 0 media file(s), 0 artifact file(s) and 35 other file(s)"
      ],
      "text/plain": [
       "<IPython.core.display.HTML object>"
      ]
     },
     "metadata": {},
     "output_type": "display_data"
    },
    {
     "data": {
      "text/html": [
       "\n",
       "                    <br/>Synced <strong style=\"color:#cdcd00\">radiant-donkey-3</strong>: <a href=\"https://wandb.ai/haplophryne/kagglesegg/runs/2mqdk9qi\" target=\"_blank\">https://wandb.ai/haplophryne/kagglesegg/runs/2mqdk9qi</a><br/>\n",
       "                "
      ],
      "text/plain": [
       "<IPython.core.display.HTML object>"
      ]
     },
     "metadata": {},
     "output_type": "display_data"
    },
    {
     "data": {
      "text/html": [
       "\n",
       "                Tracking run with wandb version 0.11.0<br/>\n",
       "                Syncing run <strong style=\"color:#cdcd00\">lyric-elevator-4</strong> to <a href=\"https://wandb.ai\" target=\"_blank\">Weights & Biases</a> <a href=\"https://docs.wandb.com/integrations/jupyter.html\" target=\"_blank\">(Documentation)</a>.<br/>\n",
       "                Project page: <a href=\"https://wandb.ai/haplophryne/kagglesegg\" target=\"_blank\">https://wandb.ai/haplophryne/kagglesegg</a><br/>\n",
       "                Run page: <a href=\"https://wandb.ai/haplophryne/kagglesegg/runs/2rs5qmc8\" target=\"_blank\">https://wandb.ai/haplophryne/kagglesegg/runs/2rs5qmc8</a><br/>\n",
       "                Run data is saved locally in <code>/kaggle/working/wandb/run-20210726_193219-2rs5qmc8</code><br/><br/>\n",
       "            "
      ],
      "text/plain": [
       "<IPython.core.display.HTML object>"
      ]
     },
     "metadata": {},
     "output_type": "display_data"
    },
    {
     "name": "stdout",
     "output_type": "stream",
     "text": [
      "\n",
      "--- [START 2021-07-26_14-00-10] ----------------------------------------------------------------\n",
      "\n",
      "\tout_dir  = ./\n",
      "\n",
      "train_dataset : \n",
      "\tlen = 4988\n",
      "\tdf  = (4988, 12)\n",
      "\tlabel distribution\n",
      "\t\t 0     Negative for Pneumonia:  1365 (0.2737)\n",
      "\t\t 1         Typical Appearance:  2373 (0.4757)\n",
      "\t\t 2   Indeterminate Appearance:   869 (0.1742)\n",
      "\t\t 3        Atypical Appearance:   381 (0.0764)\n",
      "\n",
      "valid_dataset : \n",
      "\tlen = 1239\n",
      "\tdf  = (1239, 12)\n",
      "\tlabel distribution\n",
      "\t\t 0     Negative for Pneumonia:   344 (0.2776)\n",
      "\t\t 1         Typical Appearance:   585 (0.4722)\n",
      "\t\t 2   Indeterminate Appearance:   213 (0.1719)\n",
      "\t\t 3        Atypical Appearance:    97 (0.0783)\n",
      "\n",
      "\n",
      "** net setting **\n",
      "net=<class '__main__.AmpNet'>\n",
      "\tinitial_checkpoint = None\n",
      "\n",
      "optimizer\n",
      "  MADGRAD (\n",
      "Parameter Group 0\n",
      "    eps: 1e-06\n",
      "    lr: 0.001\n",
      "    momentum: 0.9\n",
      "    weight_decay: 0\n",
      ")\n",
      "\n",
      "** start training here! **\n",
      "   fold = 4\n",
      "   is_mixed_precision = True \n",
      "   batch_size = 8\n",
      "                      |----- VALID ---|---- TRAIN/BATCH --------------\n",
      "rate     iter   epoch | loss    map  topk_0 topk_1  | loss0  loss1 loss2 | time          \n",
      "----------------------------------------------------------------------\n",
      "0.00000  0.000* 0.00  | 1.365  0.164  0.148  0.354  | 0.000  0.000  0.000  |  0 hr 00 min\n",
      "0.00100  0.020* 0.32  | 1.020  0.297  0.098  0.389  | 1.171  8.043  0.000  |  0 hr 03 min\n",
      "0.00100  0.040* 0.64  | 1.046  0.293  0.098  0.308  | 1.085  8.033  0.000  |  0 hr 06 min\n",
      "0.00100  0.060* 0.96  | 0.987  0.304  0.153  0.347  | 1.092  8.016  0.000  |  0 hr 09 min\n",
      "0.00100  0.080* 1.28  | 1.041  0.314  0.165  0.382  | 1.056  8.009  0.000  |  0 hr 12 min\n",
      "0.00100  0.100* 1.61  | 1.162  0.281  0.211  0.409  | 1.026  8.088  0.000  |  0 hr 15 min\n",
      "0.00100  0.120* 1.93  | 1.039  0.318  0.123  0.426  | 1.037  8.026  0.000  |  0 hr 18 min\n",
      "0.00100  0.140* 2.25  | 1.045  0.281  0.111  0.280  | 1.135  8.145  0.000  |  0 hr 21 min\n",
      "0.00100  0.160* 2.57  | 0.958  0.318  0.143  0.409  | 1.080  8.019  0.000  |  0 hr 24 min\n",
      "0.00100  0.180* 2.89  | 1.153  0.298  0.207  0.381  | 0.977  8.017  0.000  |  0 hr 27 min\n",
      "0.00100  0.200* 3.21  | 0.942  0.319  0.165  0.367  | 1.031  8.016  0.000  |  0 hr 30 min\n",
      "0.00100  0.220* 3.53  | 0.952  0.327  0.225  0.372  | 1.024  8.019  0.000  |  0 hr 32 min\n",
      "0.00100  0.240* 3.85  | 0.978  0.328  0.229  0.402  | 1.012  8.014  0.000  |  0 hr 35 min\n",
      "0.00100  0.260* 4.17  | 0.929  0.331  0.211  0.397  | 0.988  8.026  0.000  |  0 hr 38 min\n",
      "0.00100  0.280* 4.49  | 0.950  0.323  0.153  0.420  | 0.999  8.013  0.000  |  0 hr 41 min\n",
      "0.00100  0.300* 4.82  | 0.979  0.333  0.184  0.333  | 1.011  8.017  0.000  |  0 hr 44 min\n",
      "0.00100  0.320* 5.14  | 0.940  0.330  0.160  0.382  | 0.952  8.026  0.000  |  0 hr 47 min\n",
      "0.00100  0.340* 5.46  | 1.008  0.310  0.130  0.319  | 0.991  8.016  0.000  |  0 hr 50 min\n",
      "0.00100  0.360* 5.78  | 0.929  0.337  0.137  0.360  | 1.002  8.013  0.000  |  0 hr 53 min\n",
      "0.00100  0.380* 6.10  | 0.929  0.334  0.149  0.398  | 0.990  8.021  0.000  |  0 hr 56 min\n",
      "0.00100  0.400* 6.42  | 0.918  0.336  0.161  0.358  | 0.984  8.020  0.000  |  0 hr 59 min\n",
      "0.00100  0.420* 6.74  | 0.964  0.326  0.147  0.421  | 0.942  8.020  0.000  |  1 hr 02 min\n",
      "0.00100  0.440* 7.06  | 0.918  0.336  0.187  0.370  | 0.973  8.009  0.000  |  1 hr 05 min\n",
      "0.00100  0.460* 7.38  | 0.995  0.330  0.198  0.370  | 0.943  8.020  0.000  |  1 hr 08 min\n",
      "0.00100  0.480* 7.70  | 0.980  0.325  0.144  0.412  | 0.916  8.018  0.000  |  1 hr 11 min\n",
      "0.00100  0.500* 8.03  | 0.952  0.331  0.203  0.394  | 0.970  8.037  0.000  |  1 hr 14 min\n",
      "0.00100  0.520* 8.35  | 1.007  0.328  0.201  0.436  | 0.946  8.016  0.000  |  1 hr 17 min\n",
      "0.00100  0.540* 8.67  | 1.118  0.326  0.274  0.456  | 0.967  8.017  0.000  |  1 hr 20 min\n",
      "0.00100  0.560* 8.99  | 0.913  0.339  0.142  0.391  | 0.949  8.011  0.000  |  1 hr 23 min\n",
      "0.00100  0.580* 9.31  | 0.901  0.353  0.177  0.423  | 0.940  8.024  0.000  |  1 hr 26 min\n",
      "0.00100  0.600* 9.63  | 1.049  0.327  0.212  0.445  | 0.940  8.035  0.000  |  1 hr 29 min\n",
      "0.00100  0.620* 9.95  | 0.936  0.332  0.126  0.349  | 0.927  8.031  0.000  |  1 hr 32 min\n",
      "0.00100  0.640* 10.27  | 0.907  0.343  0.175  0.428  | 0.915  8.028  0.000  |  1 hr 35 min\n",
      "0.00100  0.660* 10.59  | 1.158  0.317  0.157  0.431  | 0.981  8.069  0.000  |  1 hr 38 min\n",
      "0.00100  0.680* 10.91  | 0.985  0.315  0.119  0.387  | 1.015  8.019  0.000  |  1 hr 41 min\n",
      "0.00100  0.700* 11.24  | 0.932  0.323  0.191  0.395  | 0.936  8.012  0.000  |  1 hr 44 min\n",
      "0.00100  0.720  11.56  | 1.065  0.322  0.133  0.319  | 0.929  8.018  0.000  |  1 hr 47 min\n",
      "0.00100  0.740  11.88  | 1.068  0.323  0.166  0.447  | 0.955  8.012  0.000  |  1 hr 50 min\n",
      "0.00100  0.748  12.00  | 1.068  0.323  0.166  0.447  | 0.909  8.001  0.000  |  1 hr 51 min\n"
     ]
    },
    {
     "data": {
      "text/html": [
       "<br/>Waiting for W&B process to finish, PID 16203<br/>Program ended successfully."
      ],
      "text/plain": [
       "<IPython.core.display.HTML object>"
      ]
     },
     "metadata": {},
     "output_type": "display_data"
    },
    {
     "data": {
      "application/vnd.jupyter.widget-view+json": {
       "model_id": "198e3f47e3984112879fb0bdaf4fe7e2",
       "version_major": 2,
       "version_minor": 0
      },
      "text/plain": [
       "VBox(children=(Label(value=' 1488.22MB of 1488.22MB uploaded (0.00MB deduped)\\r'), FloatProgress(value=1.0, ma…"
      ]
     },
     "metadata": {},
     "output_type": "display_data"
    },
    {
     "data": {
      "text/html": [
       "Find user logs for this run at: <code>/kaggle/working/wandb/run-20210726_193219-2rs5qmc8/logs/debug.log</code>"
      ],
      "text/plain": [
       "<IPython.core.display.HTML object>"
      ]
     },
     "metadata": {},
     "output_type": "display_data"
    },
    {
     "data": {
      "text/html": [
       "Find internal logs for this run at: <code>/kaggle/working/wandb/run-20210726_193219-2rs5qmc8/logs/debug-internal.log</code>"
      ],
      "text/plain": [
       "<IPython.core.display.HTML object>"
      ]
     },
     "metadata": {},
     "output_type": "display_data"
    },
    {
     "data": {
      "text/html": [
       "<h3>Run summary:</h3><br/><style>\n",
       "    table.wandb td:nth-child(1) { padding: 0 10px; text-align: right }\n",
       "    </style><table class=\"wandb\">\n",
       "<tr><td>fold</td><td>4</td></tr><tr><td>epoch</td><td>11.87801</td></tr><tr><td>rate</td><td>0.001</td></tr><tr><td>iterate</td><td>0.74</td></tr><tr><td>valid_loss</td><td>1.06836</td></tr><tr><td>valid_map</td><td>0.32281</td></tr><tr><td>valid_topk_0</td><td>0.16626</td></tr><tr><td>valid_topk_1</td><td>0.44713</td></tr><tr><td>train_ce_loss</td><td>1.38255</td></tr><tr><td>train_bce_loss</td><td>8.0008</td></tr><tr><td>_runtime</td><td>6680</td></tr><tr><td>_timestamp</td><td>1627334620</td></tr><tr><td>_step</td><td>7400</td></tr></table>"
      ],
      "text/plain": [
       "<IPython.core.display.HTML object>"
      ]
     },
     "metadata": {},
     "output_type": "display_data"
    },
    {
     "data": {
      "text/html": [
       "<h3>Run history:</h3><br/><style>\n",
       "    table.wandb td:nth-child(1) { padding: 0 10px; text-align: right }\n",
       "    </style><table class=\"wandb\">\n",
       "<tr><td>fold</td><td>▁▁▁▁▁▁▁▁▁▁▁▁▁▁▁▁▁▁▁▁▁▁▁▁▁▁▁▁▁▁▁▁▁▁▁▁▁▁</td></tr><tr><td>epoch</td><td>▁▁▁▂▂▂▂▂▃▃▃▃▃▃▄▄▄▄▄▅▅▅▅▅▆▆▆▆▆▆▇▇▇▇▇███</td></tr><tr><td>rate</td><td>▁█████████████████████████████████████</td></tr><tr><td>iterate</td><td>▁▁▁▂▂▂▂▂▃▃▃▃▃▃▄▄▄▄▄▅▅▅▅▅▆▆▆▆▆▆▇▇▇▇▇███</td></tr><tr><td>valid_loss</td><td>█▃▃▂▃▅▃▃▂▅▂▂▂▁▂▂▂▃▁▁▁▂▁▂▂▂▃▄▁▁▃▂▁▅▂▁▃▄</td></tr><tr><td>valid_map</td><td>▁▆▆▆▇▅▇▅▇▆▇▇▇▇▇▇▇▆▇▇▇▇▇▇▇▇▇▇▇█▇▇█▇▇▇▇▇</td></tr><tr><td>valid_topk_0</td><td>▃▁▁▃▄▅▂▂▃▅▄▆▆▅▃▄▃▂▃▃▃▃▅▅▃▅▅█▃▄▆▂▄▃▂▅▂▄</td></tr><tr><td>valid_topk_1</td><td>▄▅▂▄▅▆▇▁▆▅▄▅▆▆▇▃▅▃▄▆▄▇▅▅▆▆▇█▅▇█▄▇▇▅▆▃█</td></tr><tr><td>train_ce_loss</td><td>▁▇▄▇▃▃▄▆▄▇▄▄▆▄█▅▆▅▅▄▅▄▄▄▇▅▄▇▄▅▅▅▆▆▅▃▃▇</td></tr><tr><td>train_bce_loss</td><td>▁█████████████████████████████████████</td></tr><tr><td>_runtime</td><td>▁▁▁▂▂▂▂▂▃▃▃▃▃▄▄▄▄▄▄▅▅▅▅▅▆▆▆▆▆▇▇▇▇▇████</td></tr><tr><td>_timestamp</td><td>▁▁▁▂▂▂▂▂▃▃▃▃▃▄▄▄▄▄▄▅▅▅▅▅▆▆▆▆▆▇▇▇▇▇████</td></tr><tr><td>_step</td><td>▁▁▁▂▂▂▂▂▃▃▃▃▃▃▄▄▄▄▄▅▅▅▅▅▆▆▆▆▆▆▇▇▇▇▇███</td></tr></table><br/>"
      ],
      "text/plain": [
       "<IPython.core.display.HTML object>"
      ]
     },
     "metadata": {},
     "output_type": "display_data"
    },
    {
     "data": {
      "text/html": [
       "Synced 5 W&B file(s), 0 media file(s), 0 artifact file(s) and 35 other file(s)"
      ],
      "text/plain": [
       "<IPython.core.display.HTML object>"
      ]
     },
     "metadata": {},
     "output_type": "display_data"
    },
    {
     "data": {
      "text/html": [
       "\n",
       "                    <br/>Synced <strong style=\"color:#cdcd00\">lyric-elevator-4</strong>: <a href=\"https://wandb.ai/haplophryne/kagglesegg/runs/2rs5qmc8\" target=\"_blank\">https://wandb.ai/haplophryne/kagglesegg/runs/2rs5qmc8</a><br/>\n",
       "                "
      ],
      "text/plain": [
       "<IPython.core.display.HTML object>"
      ]
     },
     "metadata": {},
     "output_type": "display_data"
    }
   ],
   "source": [
    "run_train()"
   ]
  },
  {
   "cell_type": "code",
   "execution_count": null,
   "id": "effective-retention",
   "metadata": {
    "papermill": {
     "duration": 20.056464,
     "end_time": "2021-07-26T21:24:23.916098",
     "exception": false,
     "start_time": "2021-07-26T21:24:03.859634",
     "status": "completed"
    },
    "tags": []
   },
   "outputs": [],
   "source": []
  }
 ],
 "metadata": {
  "kernelspec": {
   "display_name": "Python 3",
   "language": "python",
   "name": "python3"
  },
  "language_info": {
   "codemirror_mode": {
    "name": "ipython",
    "version": 3
   },
   "file_extension": ".py",
   "mimetype": "text/x-python",
   "name": "python",
   "nbconvert_exporter": "python",
   "pygments_lexer": "ipython3",
   "version": "3.7.10"
  },
  "papermill": {
   "default_parameters": {},
   "duration": 26715.826992,
   "end_time": "2021-07-26T21:24:45.549289",
   "environment_variables": {},
   "exception": null,
   "input_path": "__notebook__.ipynb",
   "output_path": "__notebook__.ipynb",
   "parameters": {},
   "start_time": "2021-07-26T13:59:29.722297",
   "version": "2.3.3"
  },
  "widgets": {
   "application/vnd.jupyter.widget-state+json": {
    "state": {
     "0fca2b4b06564e2cbe24f3693f0d150f": {
      "model_module": "@jupyter-widgets/controls",
      "model_module_version": "1.5.0",
      "model_name": "FloatProgressModel",
      "state": {
       "_dom_classes": [],
       "_model_module": "@jupyter-widgets/controls",
       "_model_module_version": "1.5.0",
       "_model_name": "FloatProgressModel",
       "_view_count": null,
       "_view_module": "@jupyter-widgets/controls",
       "_view_module_version": "1.5.0",
       "_view_name": "ProgressView",
       "bar_style": "",
       "description": "",
       "description_tooltip": null,
       "layout": "IPY_MODEL_38f7056107c844eba7e7952645e04675",
       "max": 1.0,
       "min": 0.0,
       "orientation": "horizontal",
       "style": "IPY_MODEL_4440fe7c080a429da2f2382562ea6c5f",
       "value": 1.0
      }
     },
     "11b912634def4b3f9f5302536a8c84da": {
      "model_module": "@jupyter-widgets/controls",
      "model_module_version": "1.5.0",
      "model_name": "FloatProgressModel",
      "state": {
       "_dom_classes": [],
       "_model_module": "@jupyter-widgets/controls",
       "_model_module_version": "1.5.0",
       "_model_name": "FloatProgressModel",
       "_view_count": null,
       "_view_module": "@jupyter-widgets/controls",
       "_view_module_version": "1.5.0",
       "_view_name": "ProgressView",
       "bar_style": "",
       "description": "",
       "description_tooltip": null,
       "layout": "IPY_MODEL_633dde51c09d4c45ba4f536bd65d63fd",
       "max": 1.0,
       "min": 0.0,
       "orientation": "horizontal",
       "style": "IPY_MODEL_e949ac92cb3345229d3af065bbab6ed7",
       "value": 1.0
      }
     },
     "198e3f47e3984112879fb0bdaf4fe7e2": {
      "model_module": "@jupyter-widgets/controls",
      "model_module_version": "1.5.0",
      "model_name": "VBoxModel",
      "state": {
       "_dom_classes": [],
       "_model_module": "@jupyter-widgets/controls",
       "_model_module_version": "1.5.0",
       "_model_name": "VBoxModel",
       "_view_count": null,
       "_view_module": "@jupyter-widgets/controls",
       "_view_module_version": "1.5.0",
       "_view_name": "VBoxView",
       "box_style": "",
       "children": [
        "IPY_MODEL_2cec669856274d918c31705b38034b25",
        "IPY_MODEL_0fca2b4b06564e2cbe24f3693f0d150f"
       ],
       "layout": "IPY_MODEL_d4b471df93ac47d0918df04784b28643"
      }
     },
     "1a0627619900417e8d21437404f31653": {
      "model_module": "@jupyter-widgets/controls",
      "model_module_version": "1.5.0",
      "model_name": "VBoxModel",
      "state": {
       "_dom_classes": [],
       "_model_module": "@jupyter-widgets/controls",
       "_model_module_version": "1.5.0",
       "_model_name": "VBoxModel",
       "_view_count": null,
       "_view_module": "@jupyter-widgets/controls",
       "_view_module_version": "1.5.0",
       "_view_name": "VBoxView",
       "box_style": "",
       "children": [
        "IPY_MODEL_5bc7a6abc2984285bd6d89f0c4f0245c",
        "IPY_MODEL_11b912634def4b3f9f5302536a8c84da"
       ],
       "layout": "IPY_MODEL_e467375f262a4651bd4d17daabe886a6"
      }
     },
     "1dc4a218b14d48a1af1922fb65433418": {
      "model_module": "@jupyter-widgets/base",
      "model_module_version": "1.2.0",
      "model_name": "LayoutModel",
      "state": {
       "_model_module": "@jupyter-widgets/base",
       "_model_module_version": "1.2.0",
       "_model_name": "LayoutModel",
       "_view_count": null,
       "_view_module": "@jupyter-widgets/base",
       "_view_module_version": "1.2.0",
       "_view_name": "LayoutView",
       "align_content": null,
       "align_items": null,
       "align_self": null,
       "border": null,
       "bottom": null,
       "display": null,
       "flex": null,
       "flex_flow": null,
       "grid_area": null,
       "grid_auto_columns": null,
       "grid_auto_flow": null,
       "grid_auto_rows": null,
       "grid_column": null,
       "grid_gap": null,
       "grid_row": null,
       "grid_template_areas": null,
       "grid_template_columns": null,
       "grid_template_rows": null,
       "height": null,
       "justify_content": null,
       "justify_items": null,
       "left": null,
       "margin": null,
       "max_height": null,
       "max_width": null,
       "min_height": null,
       "min_width": null,
       "object_fit": null,
       "object_position": null,
       "order": null,
       "overflow": null,
       "overflow_x": null,
       "overflow_y": null,
       "padding": null,
       "right": null,
       "top": null,
       "visibility": null,
       "width": null
      }
     },
     "2cec669856274d918c31705b38034b25": {
      "model_module": "@jupyter-widgets/controls",
      "model_module_version": "1.5.0",
      "model_name": "LabelModel",
      "state": {
       "_dom_classes": [],
       "_model_module": "@jupyter-widgets/controls",
       "_model_module_version": "1.5.0",
       "_model_name": "LabelModel",
       "_view_count": null,
       "_view_module": "@jupyter-widgets/controls",
       "_view_module_version": "1.5.0",
       "_view_name": "LabelView",
       "description": "",
       "description_tooltip": null,
       "layout": "IPY_MODEL_d2aa98f5e75041c8bd5a24f193aab6e0",
       "placeholder": "​",
       "style": "IPY_MODEL_752f0d980ccb4d5ebdbcfeaffa143c59",
       "value": " 1488.24MB of 1488.24MB uploaded (0.00MB deduped)\r"
      }
     },
     "38f7056107c844eba7e7952645e04675": {
      "model_module": "@jupyter-widgets/base",
      "model_module_version": "1.2.0",
      "model_name": "LayoutModel",
      "state": {
       "_model_module": "@jupyter-widgets/base",
       "_model_module_version": "1.2.0",
       "_model_name": "LayoutModel",
       "_view_count": null,
       "_view_module": "@jupyter-widgets/base",
       "_view_module_version": "1.2.0",
       "_view_name": "LayoutView",
       "align_content": null,
       "align_items": null,
       "align_self": null,
       "border": null,
       "bottom": null,
       "display": null,
       "flex": null,
       "flex_flow": null,
       "grid_area": null,
       "grid_auto_columns": null,
       "grid_auto_flow": null,
       "grid_auto_rows": null,
       "grid_column": null,
       "grid_gap": null,
       "grid_row": null,
       "grid_template_areas": null,
       "grid_template_columns": null,
       "grid_template_rows": null,
       "height": null,
       "justify_content": null,
       "justify_items": null,
       "left": null,
       "margin": null,
       "max_height": null,
       "max_width": null,
       "min_height": null,
       "min_width": null,
       "object_fit": null,
       "object_position": null,
       "order": null,
       "overflow": null,
       "overflow_x": null,
       "overflow_y": null,
       "padding": null,
       "right": null,
       "top": null,
       "visibility": null,
       "width": null
      }
     },
     "41168961d92947c1bf9c6d6083657b05": {
      "model_module": "@jupyter-widgets/controls",
      "model_module_version": "1.5.0",
      "model_name": "LabelModel",
      "state": {
       "_dom_classes": [],
       "_model_module": "@jupyter-widgets/controls",
       "_model_module_version": "1.5.0",
       "_model_name": "LabelModel",
       "_view_count": null,
       "_view_module": "@jupyter-widgets/controls",
       "_view_module_version": "1.5.0",
       "_view_name": "LabelView",
       "description": "",
       "description_tooltip": null,
       "layout": "IPY_MODEL_fdf76ba2deb248f4926f471508ebdfc8",
       "placeholder": "​",
       "style": "IPY_MODEL_9fd138d5b6814e429e0be21fc922e587",
       "value": " 1488.24MB of 1488.24MB uploaded (0.00MB deduped)\r"
      }
     },
     "42254e501b0e49d3977491ef53b0c61f": {
      "model_module": "@jupyter-widgets/controls",
      "model_module_version": "1.5.0",
      "model_name": "FloatProgressModel",
      "state": {
       "_dom_classes": [],
       "_model_module": "@jupyter-widgets/controls",
       "_model_module_version": "1.5.0",
       "_model_name": "FloatProgressModel",
       "_view_count": null,
       "_view_module": "@jupyter-widgets/controls",
       "_view_module_version": "1.5.0",
       "_view_name": "ProgressView",
       "bar_style": "",
       "description": "",
       "description_tooltip": null,
       "layout": "IPY_MODEL_7de8a19bd35f46fa81b11fc02f7fff6b",
       "max": 1.0,
       "min": 0.0,
       "orientation": "horizontal",
       "style": "IPY_MODEL_724fe17576424375ad29f24246909485",
       "value": 1.0
      }
     },
     "42e7e65ba9af44c281667ca9fa4e332f": {
      "model_module": "@jupyter-widgets/base",
      "model_module_version": "1.2.0",
      "model_name": "LayoutModel",
      "state": {
       "_model_module": "@jupyter-widgets/base",
       "_model_module_version": "1.2.0",
       "_model_name": "LayoutModel",
       "_view_count": null,
       "_view_module": "@jupyter-widgets/base",
       "_view_module_version": "1.2.0",
       "_view_name": "LayoutView",
       "align_content": null,
       "align_items": null,
       "align_self": null,
       "border": null,
       "bottom": null,
       "display": null,
       "flex": null,
       "flex_flow": null,
       "grid_area": null,
       "grid_auto_columns": null,
       "grid_auto_flow": null,
       "grid_auto_rows": null,
       "grid_column": null,
       "grid_gap": null,
       "grid_row": null,
       "grid_template_areas": null,
       "grid_template_columns": null,
       "grid_template_rows": null,
       "height": null,
       "justify_content": null,
       "justify_items": null,
       "left": null,
       "margin": null,
       "max_height": null,
       "max_width": null,
       "min_height": null,
       "min_width": null,
       "object_fit": null,
       "object_position": null,
       "order": null,
       "overflow": null,
       "overflow_x": null,
       "overflow_y": null,
       "padding": null,
       "right": null,
       "top": null,
       "visibility": null,
       "width": null
      }
     },
     "4440fe7c080a429da2f2382562ea6c5f": {
      "model_module": "@jupyter-widgets/controls",
      "model_module_version": "1.5.0",
      "model_name": "ProgressStyleModel",
      "state": {
       "_model_module": "@jupyter-widgets/controls",
       "_model_module_version": "1.5.0",
       "_model_name": "ProgressStyleModel",
       "_view_count": null,
       "_view_module": "@jupyter-widgets/base",
       "_view_module_version": "1.2.0",
       "_view_name": "StyleView",
       "bar_color": null,
       "description_width": ""
      }
     },
     "5bc7a6abc2984285bd6d89f0c4f0245c": {
      "model_module": "@jupyter-widgets/controls",
      "model_module_version": "1.5.0",
      "model_name": "LabelModel",
      "state": {
       "_dom_classes": [],
       "_model_module": "@jupyter-widgets/controls",
       "_model_module_version": "1.5.0",
       "_model_name": "LabelModel",
       "_view_count": null,
       "_view_module": "@jupyter-widgets/controls",
       "_view_module_version": "1.5.0",
       "_view_name": "LabelView",
       "description": "",
       "description_tooltip": null,
       "layout": "IPY_MODEL_1dc4a218b14d48a1af1922fb65433418",
       "placeholder": "​",
       "style": "IPY_MODEL_84bba127e999489f83b05e16db42121a",
       "value": " 1488.24MB of 1488.24MB uploaded (0.00MB deduped)\r"
      }
     },
     "5c430a25e7a64b74a9d30d0ec8931413": {
      "model_module": "@jupyter-widgets/controls",
      "model_module_version": "1.5.0",
      "model_name": "DescriptionStyleModel",
      "state": {
       "_model_module": "@jupyter-widgets/controls",
       "_model_module_version": "1.5.0",
       "_model_name": "DescriptionStyleModel",
       "_view_count": null,
       "_view_module": "@jupyter-widgets/base",
       "_view_module_version": "1.2.0",
       "_view_name": "StyleView",
       "description_width": ""
      }
     },
     "633dde51c09d4c45ba4f536bd65d63fd": {
      "model_module": "@jupyter-widgets/base",
      "model_module_version": "1.2.0",
      "model_name": "LayoutModel",
      "state": {
       "_model_module": "@jupyter-widgets/base",
       "_model_module_version": "1.2.0",
       "_model_name": "LayoutModel",
       "_view_count": null,
       "_view_module": "@jupyter-widgets/base",
       "_view_module_version": "1.2.0",
       "_view_name": "LayoutView",
       "align_content": null,
       "align_items": null,
       "align_self": null,
       "border": null,
       "bottom": null,
       "display": null,
       "flex": null,
       "flex_flow": null,
       "grid_area": null,
       "grid_auto_columns": null,
       "grid_auto_flow": null,
       "grid_auto_rows": null,
       "grid_column": null,
       "grid_gap": null,
       "grid_row": null,
       "grid_template_areas": null,
       "grid_template_columns": null,
       "grid_template_rows": null,
       "height": null,
       "justify_content": null,
       "justify_items": null,
       "left": null,
       "margin": null,
       "max_height": null,
       "max_width": null,
       "min_height": null,
       "min_width": null,
       "object_fit": null,
       "object_position": null,
       "order": null,
       "overflow": null,
       "overflow_x": null,
       "overflow_y": null,
       "padding": null,
       "right": null,
       "top": null,
       "visibility": null,
       "width": null
      }
     },
     "724fe17576424375ad29f24246909485": {
      "model_module": "@jupyter-widgets/controls",
      "model_module_version": "1.5.0",
      "model_name": "ProgressStyleModel",
      "state": {
       "_model_module": "@jupyter-widgets/controls",
       "_model_module_version": "1.5.0",
       "_model_name": "ProgressStyleModel",
       "_view_count": null,
       "_view_module": "@jupyter-widgets/base",
       "_view_module_version": "1.2.0",
       "_view_name": "StyleView",
       "bar_color": null,
       "description_width": ""
      }
     },
     "752f0d980ccb4d5ebdbcfeaffa143c59": {
      "model_module": "@jupyter-widgets/controls",
      "model_module_version": "1.5.0",
      "model_name": "DescriptionStyleModel",
      "state": {
       "_model_module": "@jupyter-widgets/controls",
       "_model_module_version": "1.5.0",
       "_model_name": "DescriptionStyleModel",
       "_view_count": null,
       "_view_module": "@jupyter-widgets/base",
       "_view_module_version": "1.2.0",
       "_view_name": "StyleView",
       "description_width": ""
      }
     },
     "7ce9c31100cd48fca33849b6d648a991": {
      "model_module": "@jupyter-widgets/base",
      "model_module_version": "1.2.0",
      "model_name": "LayoutModel",
      "state": {
       "_model_module": "@jupyter-widgets/base",
       "_model_module_version": "1.2.0",
       "_model_name": "LayoutModel",
       "_view_count": null,
       "_view_module": "@jupyter-widgets/base",
       "_view_module_version": "1.2.0",
       "_view_name": "LayoutView",
       "align_content": null,
       "align_items": null,
       "align_self": null,
       "border": null,
       "bottom": null,
       "display": null,
       "flex": null,
       "flex_flow": null,
       "grid_area": null,
       "grid_auto_columns": null,
       "grid_auto_flow": null,
       "grid_auto_rows": null,
       "grid_column": null,
       "grid_gap": null,
       "grid_row": null,
       "grid_template_areas": null,
       "grid_template_columns": null,
       "grid_template_rows": null,
       "height": null,
       "justify_content": null,
       "justify_items": null,
       "left": null,
       "margin": null,
       "max_height": null,
       "max_width": null,
       "min_height": null,
       "min_width": null,
       "object_fit": null,
       "object_position": null,
       "order": null,
       "overflow": null,
       "overflow_x": null,
       "overflow_y": null,
       "padding": null,
       "right": null,
       "top": null,
       "visibility": null,
       "width": null
      }
     },
     "7de8a19bd35f46fa81b11fc02f7fff6b": {
      "model_module": "@jupyter-widgets/base",
      "model_module_version": "1.2.0",
      "model_name": "LayoutModel",
      "state": {
       "_model_module": "@jupyter-widgets/base",
       "_model_module_version": "1.2.0",
       "_model_name": "LayoutModel",
       "_view_count": null,
       "_view_module": "@jupyter-widgets/base",
       "_view_module_version": "1.2.0",
       "_view_name": "LayoutView",
       "align_content": null,
       "align_items": null,
       "align_self": null,
       "border": null,
       "bottom": null,
       "display": null,
       "flex": null,
       "flex_flow": null,
       "grid_area": null,
       "grid_auto_columns": null,
       "grid_auto_flow": null,
       "grid_auto_rows": null,
       "grid_column": null,
       "grid_gap": null,
       "grid_row": null,
       "grid_template_areas": null,
       "grid_template_columns": null,
       "grid_template_rows": null,
       "height": null,
       "justify_content": null,
       "justify_items": null,
       "left": null,
       "margin": null,
       "max_height": null,
       "max_width": null,
       "min_height": null,
       "min_width": null,
       "object_fit": null,
       "object_position": null,
       "order": null,
       "overflow": null,
       "overflow_x": null,
       "overflow_y": null,
       "padding": null,
       "right": null,
       "top": null,
       "visibility": null,
       "width": null
      }
     },
     "84bba127e999489f83b05e16db42121a": {
      "model_module": "@jupyter-widgets/controls",
      "model_module_version": "1.5.0",
      "model_name": "DescriptionStyleModel",
      "state": {
       "_model_module": "@jupyter-widgets/controls",
       "_model_module_version": "1.5.0",
       "_model_name": "DescriptionStyleModel",
       "_view_count": null,
       "_view_module": "@jupyter-widgets/base",
       "_view_module_version": "1.2.0",
       "_view_name": "StyleView",
       "description_width": ""
      }
     },
     "947a3015d4264132b140fd66b1cfa5e2": {
      "model_module": "@jupyter-widgets/controls",
      "model_module_version": "1.5.0",
      "model_name": "ProgressStyleModel",
      "state": {
       "_model_module": "@jupyter-widgets/controls",
       "_model_module_version": "1.5.0",
       "_model_name": "ProgressStyleModel",
       "_view_count": null,
       "_view_module": "@jupyter-widgets/base",
       "_view_module_version": "1.2.0",
       "_view_name": "StyleView",
       "bar_color": null,
       "description_width": ""
      }
     },
     "9573cf6551a7429e9adccd0100f3392d": {
      "model_module": "@jupyter-widgets/controls",
      "model_module_version": "1.5.0",
      "model_name": "FloatProgressModel",
      "state": {
       "_dom_classes": [],
       "_model_module": "@jupyter-widgets/controls",
       "_model_module_version": "1.5.0",
       "_model_name": "FloatProgressModel",
       "_view_count": null,
       "_view_module": "@jupyter-widgets/controls",
       "_view_module_version": "1.5.0",
       "_view_name": "ProgressView",
       "bar_style": "",
       "description": "",
       "description_tooltip": null,
       "layout": "IPY_MODEL_42e7e65ba9af44c281667ca9fa4e332f",
       "max": 1.0,
       "min": 0.0,
       "orientation": "horizontal",
       "style": "IPY_MODEL_947a3015d4264132b140fd66b1cfa5e2",
       "value": 1.0
      }
     },
     "9f67ba2cc4484d6ca7ccbc3528b184bd": {
      "model_module": "@jupyter-widgets/base",
      "model_module_version": "1.2.0",
      "model_name": "LayoutModel",
      "state": {
       "_model_module": "@jupyter-widgets/base",
       "_model_module_version": "1.2.0",
       "_model_name": "LayoutModel",
       "_view_count": null,
       "_view_module": "@jupyter-widgets/base",
       "_view_module_version": "1.2.0",
       "_view_name": "LayoutView",
       "align_content": null,
       "align_items": null,
       "align_self": null,
       "border": null,
       "bottom": null,
       "display": null,
       "flex": null,
       "flex_flow": null,
       "grid_area": null,
       "grid_auto_columns": null,
       "grid_auto_flow": null,
       "grid_auto_rows": null,
       "grid_column": null,
       "grid_gap": null,
       "grid_row": null,
       "grid_template_areas": null,
       "grid_template_columns": null,
       "grid_template_rows": null,
       "height": null,
       "justify_content": null,
       "justify_items": null,
       "left": null,
       "margin": null,
       "max_height": null,
       "max_width": null,
       "min_height": null,
       "min_width": null,
       "object_fit": null,
       "object_position": null,
       "order": null,
       "overflow": null,
       "overflow_x": null,
       "overflow_y": null,
       "padding": null,
       "right": null,
       "top": null,
       "visibility": null,
       "width": null
      }
     },
     "9fd138d5b6814e429e0be21fc922e587": {
      "model_module": "@jupyter-widgets/controls",
      "model_module_version": "1.5.0",
      "model_name": "DescriptionStyleModel",
      "state": {
       "_model_module": "@jupyter-widgets/controls",
       "_model_module_version": "1.5.0",
       "_model_name": "DescriptionStyleModel",
       "_view_count": null,
       "_view_module": "@jupyter-widgets/base",
       "_view_module_version": "1.2.0",
       "_view_name": "StyleView",
       "description_width": ""
      }
     },
     "a1443f0cd6d34797b7df1eac832b0f1b": {
      "model_module": "@jupyter-widgets/controls",
      "model_module_version": "1.5.0",
      "model_name": "VBoxModel",
      "state": {
       "_dom_classes": [],
       "_model_module": "@jupyter-widgets/controls",
       "_model_module_version": "1.5.0",
       "_model_name": "VBoxModel",
       "_view_count": null,
       "_view_module": "@jupyter-widgets/controls",
       "_view_module_version": "1.5.0",
       "_view_name": "VBoxView",
       "box_style": "",
       "children": [
        "IPY_MODEL_41168961d92947c1bf9c6d6083657b05",
        "IPY_MODEL_9573cf6551a7429e9adccd0100f3392d"
       ],
       "layout": "IPY_MODEL_9f67ba2cc4484d6ca7ccbc3528b184bd"
      }
     },
     "ae76c41d38cb49e1aefea6300aa4902c": {
      "model_module": "@jupyter-widgets/controls",
      "model_module_version": "1.5.0",
      "model_name": "VBoxModel",
      "state": {
       "_dom_classes": [],
       "_model_module": "@jupyter-widgets/controls",
       "_model_module_version": "1.5.0",
       "_model_name": "VBoxModel",
       "_view_count": null,
       "_view_module": "@jupyter-widgets/controls",
       "_view_module_version": "1.5.0",
       "_view_name": "VBoxView",
       "box_style": "",
       "children": [
        "IPY_MODEL_c779a8bfc60b497cadb5daa71d786c9d",
        "IPY_MODEL_42254e501b0e49d3977491ef53b0c61f"
       ],
       "layout": "IPY_MODEL_e2be030f0db84914b830388ffbd51e9c"
      }
     },
     "c779a8bfc60b497cadb5daa71d786c9d": {
      "model_module": "@jupyter-widgets/controls",
      "model_module_version": "1.5.0",
      "model_name": "LabelModel",
      "state": {
       "_dom_classes": [],
       "_model_module": "@jupyter-widgets/controls",
       "_model_module_version": "1.5.0",
       "_model_name": "LabelModel",
       "_view_count": null,
       "_view_module": "@jupyter-widgets/controls",
       "_view_module_version": "1.5.0",
       "_view_name": "LabelView",
       "description": "",
       "description_tooltip": null,
       "layout": "IPY_MODEL_7ce9c31100cd48fca33849b6d648a991",
       "placeholder": "​",
       "style": "IPY_MODEL_5c430a25e7a64b74a9d30d0ec8931413",
       "value": " 1488.24MB of 1488.24MB uploaded (0.00MB deduped)\r"
      }
     },
     "d2aa98f5e75041c8bd5a24f193aab6e0": {
      "model_module": "@jupyter-widgets/base",
      "model_module_version": "1.2.0",
      "model_name": "LayoutModel",
      "state": {
       "_model_module": "@jupyter-widgets/base",
       "_model_module_version": "1.2.0",
       "_model_name": "LayoutModel",
       "_view_count": null,
       "_view_module": "@jupyter-widgets/base",
       "_view_module_version": "1.2.0",
       "_view_name": "LayoutView",
       "align_content": null,
       "align_items": null,
       "align_self": null,
       "border": null,
       "bottom": null,
       "display": null,
       "flex": null,
       "flex_flow": null,
       "grid_area": null,
       "grid_auto_columns": null,
       "grid_auto_flow": null,
       "grid_auto_rows": null,
       "grid_column": null,
       "grid_gap": null,
       "grid_row": null,
       "grid_template_areas": null,
       "grid_template_columns": null,
       "grid_template_rows": null,
       "height": null,
       "justify_content": null,
       "justify_items": null,
       "left": null,
       "margin": null,
       "max_height": null,
       "max_width": null,
       "min_height": null,
       "min_width": null,
       "object_fit": null,
       "object_position": null,
       "order": null,
       "overflow": null,
       "overflow_x": null,
       "overflow_y": null,
       "padding": null,
       "right": null,
       "top": null,
       "visibility": null,
       "width": null
      }
     },
     "d4b471df93ac47d0918df04784b28643": {
      "model_module": "@jupyter-widgets/base",
      "model_module_version": "1.2.0",
      "model_name": "LayoutModel",
      "state": {
       "_model_module": "@jupyter-widgets/base",
       "_model_module_version": "1.2.0",
       "_model_name": "LayoutModel",
       "_view_count": null,
       "_view_module": "@jupyter-widgets/base",
       "_view_module_version": "1.2.0",
       "_view_name": "LayoutView",
       "align_content": null,
       "align_items": null,
       "align_self": null,
       "border": null,
       "bottom": null,
       "display": null,
       "flex": null,
       "flex_flow": null,
       "grid_area": null,
       "grid_auto_columns": null,
       "grid_auto_flow": null,
       "grid_auto_rows": null,
       "grid_column": null,
       "grid_gap": null,
       "grid_row": null,
       "grid_template_areas": null,
       "grid_template_columns": null,
       "grid_template_rows": null,
       "height": null,
       "justify_content": null,
       "justify_items": null,
       "left": null,
       "margin": null,
       "max_height": null,
       "max_width": null,
       "min_height": null,
       "min_width": null,
       "object_fit": null,
       "object_position": null,
       "order": null,
       "overflow": null,
       "overflow_x": null,
       "overflow_y": null,
       "padding": null,
       "right": null,
       "top": null,
       "visibility": null,
       "width": null
      }
     },
     "e2be030f0db84914b830388ffbd51e9c": {
      "model_module": "@jupyter-widgets/base",
      "model_module_version": "1.2.0",
      "model_name": "LayoutModel",
      "state": {
       "_model_module": "@jupyter-widgets/base",
       "_model_module_version": "1.2.0",
       "_model_name": "LayoutModel",
       "_view_count": null,
       "_view_module": "@jupyter-widgets/base",
       "_view_module_version": "1.2.0",
       "_view_name": "LayoutView",
       "align_content": null,
       "align_items": null,
       "align_self": null,
       "border": null,
       "bottom": null,
       "display": null,
       "flex": null,
       "flex_flow": null,
       "grid_area": null,
       "grid_auto_columns": null,
       "grid_auto_flow": null,
       "grid_auto_rows": null,
       "grid_column": null,
       "grid_gap": null,
       "grid_row": null,
       "grid_template_areas": null,
       "grid_template_columns": null,
       "grid_template_rows": null,
       "height": null,
       "justify_content": null,
       "justify_items": null,
       "left": null,
       "margin": null,
       "max_height": null,
       "max_width": null,
       "min_height": null,
       "min_width": null,
       "object_fit": null,
       "object_position": null,
       "order": null,
       "overflow": null,
       "overflow_x": null,
       "overflow_y": null,
       "padding": null,
       "right": null,
       "top": null,
       "visibility": null,
       "width": null
      }
     },
     "e467375f262a4651bd4d17daabe886a6": {
      "model_module": "@jupyter-widgets/base",
      "model_module_version": "1.2.0",
      "model_name": "LayoutModel",
      "state": {
       "_model_module": "@jupyter-widgets/base",
       "_model_module_version": "1.2.0",
       "_model_name": "LayoutModel",
       "_view_count": null,
       "_view_module": "@jupyter-widgets/base",
       "_view_module_version": "1.2.0",
       "_view_name": "LayoutView",
       "align_content": null,
       "align_items": null,
       "align_self": null,
       "border": null,
       "bottom": null,
       "display": null,
       "flex": null,
       "flex_flow": null,
       "grid_area": null,
       "grid_auto_columns": null,
       "grid_auto_flow": null,
       "grid_auto_rows": null,
       "grid_column": null,
       "grid_gap": null,
       "grid_row": null,
       "grid_template_areas": null,
       "grid_template_columns": null,
       "grid_template_rows": null,
       "height": null,
       "justify_content": null,
       "justify_items": null,
       "left": null,
       "margin": null,
       "max_height": null,
       "max_width": null,
       "min_height": null,
       "min_width": null,
       "object_fit": null,
       "object_position": null,
       "order": null,
       "overflow": null,
       "overflow_x": null,
       "overflow_y": null,
       "padding": null,
       "right": null,
       "top": null,
       "visibility": null,
       "width": null
      }
     },
     "e949ac92cb3345229d3af065bbab6ed7": {
      "model_module": "@jupyter-widgets/controls",
      "model_module_version": "1.5.0",
      "model_name": "ProgressStyleModel",
      "state": {
       "_model_module": "@jupyter-widgets/controls",
       "_model_module_version": "1.5.0",
       "_model_name": "ProgressStyleModel",
       "_view_count": null,
       "_view_module": "@jupyter-widgets/base",
       "_view_module_version": "1.2.0",
       "_view_name": "StyleView",
       "bar_color": null,
       "description_width": ""
      }
     },
     "fdf76ba2deb248f4926f471508ebdfc8": {
      "model_module": "@jupyter-widgets/base",
      "model_module_version": "1.2.0",
      "model_name": "LayoutModel",
      "state": {
       "_model_module": "@jupyter-widgets/base",
       "_model_module_version": "1.2.0",
       "_model_name": "LayoutModel",
       "_view_count": null,
       "_view_module": "@jupyter-widgets/base",
       "_view_module_version": "1.2.0",
       "_view_name": "LayoutView",
       "align_content": null,
       "align_items": null,
       "align_self": null,
       "border": null,
       "bottom": null,
       "display": null,
       "flex": null,
       "flex_flow": null,
       "grid_area": null,
       "grid_auto_columns": null,
       "grid_auto_flow": null,
       "grid_auto_rows": null,
       "grid_column": null,
       "grid_gap": null,
       "grid_row": null,
       "grid_template_areas": null,
       "grid_template_columns": null,
       "grid_template_rows": null,
       "height": null,
       "justify_content": null,
       "justify_items": null,
       "left": null,
       "margin": null,
       "max_height": null,
       "max_width": null,
       "min_height": null,
       "min_width": null,
       "object_fit": null,
       "object_position": null,
       "order": null,
       "overflow": null,
       "overflow_x": null,
       "overflow_y": null,
       "padding": null,
       "right": null,
       "top": null,
       "visibility": null,
       "width": null
      }
     }
    },
    "version_major": 2,
    "version_minor": 0
   }
  }
 },
 "nbformat": 4,
 "nbformat_minor": 5
}
